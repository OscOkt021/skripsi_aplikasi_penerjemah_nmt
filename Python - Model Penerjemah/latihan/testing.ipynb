{
 "cells": [
  {
   "cell_type": "code",
   "execution_count": 16,
   "metadata": {},
   "outputs": [
    {
     "name": "stdout",
     "output_type": "stream",
     "text": [
      "                                               Maanyan  \\\n",
      "0    hang taun karueh pamarentahanni hi nebukadneza...   \n",
      "1    ateini pada balisah nelang hanye puang kaiuh m...   \n",
      "2           balalu raja nunyu nerau kawan ulun baalimu   \n",
      "3                                         ulun bapitua   \n",
      "4               pannai sihir ina tau ngulah ulun mekum   \n",
      "..                                                 ...   \n",
      "355           amun andrau ina malaing ada tulak ma ume   \n",
      "356                hi Dani naan ani, ngaran ni hi Dina   \n",
      "357         sugih aku amun ngari tane hang Banjarmasin   \n",
      "358             salamat kaiyat kawan hengau katuluh ni   \n",
      "359  aku laku maaf ma katuluh ni, daya puang suah m...   \n",
      "\n",
      "                                             Indonesia  \n",
      "0    pada tahun kedua pemerintahannya nebukadnezar ...  \n",
      "1         hatinya pun gelisah dan ia tidak dapat tidur  \n",
      "2     lalu raja menyuruh memanggil para ahli ilmu gaib  \n",
      "3                                         tukang jampi  \n",
      "4              ahli sihir ini bisa membuat orang sakit  \n",
      "..                                                 ...  \n",
      "355         kalau hari ini panas jangan pergi ke sawah  \n",
      "356             Si Dani memiliki adik, namanya si Dina  \n",
      "357    aku akan kaya jika menjual tanah di Banjarmasin  \n",
      "358                     selamat pagi teman-teman semua  \n",
      "359  aku minta maaf semua, karena tidak pernah turu...  \n",
      "\n",
      "[360 rows x 2 columns]\n"
     ]
    }
   ],
   "source": [
    "import pandas as pd\n",
    "import torchmetrics\n",
    "\n",
    "\n",
    "csv_file = 'D:\\Oscar Main Base\\File Online\\Aplikasi_Penerjemah\\Python (2)\\pytorch-transformer-main\\datasets\\datasetma3.csv'\n",
    "df = pd.read_csv(csv_file,  delimiter= ';')\n",
    "\n",
    "print(df)\n"
   ]
  },
  {
   "cell_type": "code",
   "execution_count": null,
   "metadata": {},
   "outputs": [],
   "source": []
  }
 ],
 "metadata": {
  "kernelspec": {
   "display_name": "Python 3",
   "language": "python",
   "name": "python3"
  },
  "language_info": {
   "codemirror_mode": {
    "name": "ipython",
    "version": 3
   },
   "file_extension": ".py",
   "mimetype": "text/x-python",
   "name": "python",
   "nbconvert_exporter": "python",
   "pygments_lexer": "ipython3",
   "version": "3.11.4"
  },
  "orig_nbformat": 4
 },
 "nbformat": 4,
 "nbformat_minor": 2
}
