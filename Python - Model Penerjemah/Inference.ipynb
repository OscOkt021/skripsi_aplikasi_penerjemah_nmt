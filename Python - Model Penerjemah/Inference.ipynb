{
 "cells": [
  {
   "cell_type": "code",
   "execution_count": 1,
   "metadata": {},
   "outputs": [
    {
     "name": "stderr",
     "output_type": "stream",
     "text": [
      "C:\\Users\\oscar\\AppData\\Roaming\\Python\\Python311\\site-packages\\tqdm\\auto.py:21: TqdmWarning: IProgress not found. Please update jupyter and ipywidgets. See https://ipywidgets.readthedocs.io/en/stable/user_install.html\n",
      "  from .autonotebook import tqdm as notebook_tqdm\n",
      "C:\\Users\\oscar\\AppData\\Roaming\\Python\\Python311\\site-packages\\torchaudio\\backend\\utils.py:74: UserWarning: No audio backend is available.\n",
      "  warnings.warn(\"No audio backend is available.\")\n"
     ]
    }
   ],
   "source": [
    "from pathlib import Path\n",
    "import torch\n",
    "import torch.nn as nn\n",
    "from config import get_config, get_weights_file_path\n",
    "from train import get_model, get_ds_csv, run_validation\n",
    "from train import translate_input_string, translate_input_string_alt, eos_add, translate_input_string_test"
   ]
  },
  {
   "cell_type": "code",
   "execution_count": 83,
   "metadata": {},
   "outputs": [
    {
     "name": "stdout",
     "output_type": "stream",
     "text": [
      "Using device: cuda\n",
      "Max length of source sentence: 22\n",
      "Max length of target sentence: 24\n"
     ]
    },
    {
     "data": {
      "text/plain": [
       "<All keys matched successfully>"
      ]
     },
     "execution_count": 83,
     "metadata": {},
     "output_type": "execute_result"
    }
   ],
   "source": [
    "# Define the device\n",
    "device = torch.device(\"cuda\" if torch.cuda.is_available() else \"cpu\")\n",
    "print(\"Using device:\", device)\n",
    "config = get_config()\n",
    "# config['model_basename'] = \"tmodel_eight_four_id_\"\n",
    "config['model_basename'] = \"tmodel_new_ma_\"\n",
    "# Training bahasa target menjadi bahasa Maanyan\n",
    "# config['lang_src'] = \"Indonesia\"\n",
    "# config['lang_tgt'] = \"Maanyan\"\n",
    "train_dataloader, val_dataloader, tokenizer_src, tokenizer_tgt = get_ds_csv(config)\n",
    "model = get_model(config, tokenizer_src.get_vocab_size(), tokenizer_tgt.get_vocab_size()).to(device)\n",
    "\n",
    "# Load the pretrained weights\n",
    "model_filename = get_weights_file_path(config, f\"29\")\n",
    "state = torch.load(model_filename)\n",
    "model.load_state_dict(state['model_state_dict'])"
   ]
  },
  {
   "cell_type": "code",
   "execution_count": 9,
   "metadata": {},
   "outputs": [
    {
     "ename": "AttributeError",
     "evalue": "'str' object has no attribute 'len'",
     "output_type": "error",
     "traceback": [
      "\u001b[1;31m---------------------------------------------------------------------------\u001b[0m",
      "\u001b[1;31mAttributeError\u001b[0m                            Traceback (most recent call last)",
      "Cell \u001b[1;32mIn[9], line 4\u001b[0m\n\u001b[0;32m      1\u001b[0m input_string \u001b[39m=\u001b[39m \u001b[39m\"\u001b[39m\u001b[39mhanyu manre\u001b[39m\u001b[39m\"\u001b[39m\n\u001b[0;32m      3\u001b[0m \u001b[39m# translation = translate_input_string_test(model, input_string, tokenizer_src, tokenizer_tgt, config['seq_len'], device)\u001b[39;00m\n\u001b[1;32m----> 4\u001b[0m translation \u001b[39m=\u001b[39m translate_input_string_test(model, input_string, tokenizer_src, tokenizer_tgt, input_string\u001b[39m.\u001b[39;49mlen(), device)\n",
      "\u001b[1;31mAttributeError\u001b[0m: 'str' object has no attribute 'len'"
     ]
    }
   ],
   "source": [
    "input_string = \"hanyu manre\"\n",
    "\n",
    "# translation = translate_input_string_test(model, input_string, tokenizer_src, tokenizer_tgt, config['seq_len'], device)\n",
    "translation = translate_input_string_test(model, input_string, tokenizer_src, tokenizer_tgt, config['seq_len'], device)\n"
   ]
  },
  {
   "cell_type": "code",
   "execution_count": 52,
   "metadata": {},
   "outputs": [
    {
     "name": "stdout",
     "output_type": "stream",
     "text": [
      "4\n",
      "Input String    : 'hanyu tulak ma palangka'\n",
      "Translation     : 'kamu pergi ke palangka'\n"
     ]
    }
   ],
   "source": [
    "input_string = \"hanyu tulak ma palangka\"\n",
    "expect = \"kamu\"\n",
    "\n",
    "print(len(input_string.split(\" \")))\n",
    "\n",
    "# input_string = eos_add(input_string)\n",
    "\n",
    "# print(input_string)\n",
    "# translation = translate_input_string(model, input_string, tokenizer_src, tokenizer_tgt, config['seq_len'], device)\n",
    "translation = translate_input_string(model, input_string, tokenizer_src, tokenizer_tgt, len(input_string.split(\" \"))+1, device)\n",
    "print(f\"Input String    : '{input_string}'\")\n",
    "# print(f\"Output String   : '{expect}'\")\n",
    "print(f\"Translation     : '{translation}'\")"
   ]
  },
  {
   "cell_type": "code",
   "execution_count": 30,
   "metadata": {},
   "outputs": [
    {
     "name": "stdout",
     "output_type": "stream",
     "text": [
      "Input String    : 'dia di mana'\n",
      "Output String   : 'hanye hang awe'\n",
      "Translation     : 'hanye na hang'\n",
      "===============================================\n",
      "Input String    : 'kamu makan durian'\n",
      "Output String   : 'hanyu nguta ruyan'\n",
      "Translation     : 'hanyu nguta ruyan'\n",
      "===============================================\n",
      "Input String    : 'aku pergi ke palangka'\n",
      "Output String   : 'aku tulak ma palangka'\n",
      "Translation     : 'aku tulak ma palangka'\n"
     ]
    }
   ],
   "source": [
    "def add_eos(string):\n",
    "    return \"\"+ string + \"\"\n",
    "\n",
    "# Menggunakan fungsi translate_input_string\n",
    "\n",
    "# input_string = add_eos(\"aku\") \n",
    "input_string = [\"dia di mana\", \"kamu makan durian\", \"aku pergi ke palangka\"]\n",
    "output_string = [\"hanye hang awe\", \"hanyu nguta ruyan\", 'aku tulak ma palangka']\n",
    "translation = translate_input_string(model, input_string[0], tokenizer_src, tokenizer_tgt, len(input_string[0].split(\" \"))+1, device)\n",
    "print(f\"Input String    : '{input_string[0]}'\")\n",
    "print(f\"Output String   : '{output_string[0]}'\")\n",
    "print(f\"Translation     : '{translation}'\")\n",
    "print('===============================================')\n",
    "translation = translate_input_string(model, input_string[1], tokenizer_src, tokenizer_tgt, len(input_string[1].split(\" \"))+1, device)\n",
    "print(f\"Input String    : '{input_string[1]}'\")\n",
    "print(f\"Output String   : '{output_string[1]}'\")\n",
    "print(f\"Translation     : '{translation}'\")\n",
    "print('===============================================')\n",
    "translation = translate_input_string(model, input_string[2], tokenizer_src, tokenizer_tgt, len(input_string[2].split(\" \"))+1, device)\n",
    "print(f\"Input String    : '{input_string[2]}'\")\n",
    "print(f\"Output String   : '{output_string[2]}'\")\n",
    "print(f\"Translation     : '{translation}'\")"
   ]
  },
  {
   "cell_type": "code",
   "execution_count": 4,
   "metadata": {},
   "outputs": [
    {
     "name": "stdout",
     "output_type": "stream",
     "text": [
      "kamu makan [EOS]\n"
     ]
    }
   ],
   "source": [
    "jika = \"kamu makan.\"\n",
    "\n",
    "print(eos_add(jika))"
   ]
  },
  {
   "cell_type": "code",
   "execution_count": 4,
   "metadata": {},
   "outputs": [],
   "source": [
    "from nltk.translate.bleu_score import sentence_bleu"
   ]
  },
  {
   "cell_type": "code",
   "execution_count": 82,
   "metadata": {},
   "outputs": [
    {
     "name": "stdout",
     "output_type": "stream",
     "text": [
      "input text : kamu makan durian di sini\n",
      "translated text : hanyu nguta ruyan hang ruyan na\n",
      "BLEU Score : 0.6666666666666666\n"
     ]
    }
   ],
   "source": [
    "reference = [\n",
    "    \"hanyu nguta ruyan hang ina\".split(),\n",
    "    \"hanyu kuman ruyan hang ina\".split(),\n",
    "]\n",
    "\n",
    "input_string = 'kamu makan durian di sini'\n",
    "\n",
    "test = translate_input_string(model, input_string, tokenizer_src, tokenizer_tgt, config['seq_len'], device)\n",
    "# test = translate_input_string(model, input_string, tokenizer_src, tokenizer_tgt,  len(input_string.split(\" \"))+1, device)\n",
    "score = sentence_bleu(reference, test.split(), weights=(1, 0, 0, 0))\n",
    "\n",
    "print(f'input text : {input_string}')\n",
    "print(f'translated text : {test}')\n",
    "print(f'BLEU Score : {score}')"
   ]
  },
  {
   "cell_type": "code",
   "execution_count": 94,
   "metadata": {},
   "outputs": [
    {
     "name": "stdout",
     "output_type": "stream",
     "text": [
      "input text : hanyu tulak ma palangka\n",
      "translated text : kamu pergi ke palangka palangka hari palangka\n",
      "BLEU Score : 0.5714285714285714\n"
     ]
    }
   ],
   "source": [
    "reference = [\n",
    "    \"kamu pergi ke palangka\".split(),\n",
    "]\n",
    "\n",
    "input_string = 'hanyu tulak ma palangka'\n",
    "\n",
    "test = translate_input_string(model, input_string, tokenizer_src, tokenizer_tgt, config['seq_len'], device)\n",
    "# test = translate_input_string(model, input_string, tokenizer_src, tokenizer_tgt,  len(input_string.split(\" \"))+1, device)\n",
    "score = sentence_bleu(reference, test.split(), weights=(1, 0, 0, 0))\n",
    "\n",
    "print(f'input text : {input_string}')\n",
    "print(f'translated text : {test}')\n",
    "print(f'BLEU Score : {score}')"
   ]
  },
  {
   "cell_type": "code",
   "execution_count": 7,
   "metadata": {},
   "outputs": [
    {
     "name": "stdout",
     "output_type": "stream",
     "text": [
      "--------------------------------------------------------------------------------\n",
      "    SOURCE: dan di sana ia memanggil nama tuhan allah yang kekal\n",
      "    TARGET: nelang hang yaru hanye nanterau ngaran  tuhan  alatalla sa kalalawah\n",
      " PREDICTED: nelang hang yaru hanye ngaran tuhan alatalla sa\n",
      "--------------------------------------------------------------------------------\n",
      "    SOURCE: perut dan pinggangnya dari tembaga\n",
      "    TARGET: wuntung anri pingangni teka tambaga\n",
      " PREDICTED: anri teka tambaga\n",
      "--------------------------------------------------------------------------------\n",
      "    SOURCE: mereka menetap berhadapan dengan semua saudaranya\n",
      "    TARGET: here muneng sawung hadap anri kawan pulaksanaini\n",
      " PREDICTED: here muneng anri kawan\n",
      "--------------------------------------------------------------------------------\n",
      "    SOURCE: memberkati dia serta berpesan kepadanya\n",
      "    TARGET: mamberkat nelang ipesen ma hanye\n",
      " PREDICTED: mamberkat nelang ma hanye\n",
      "--------------------------------------------------------------------------------\n",
      "    SOURCE: itu berarti mereka akan bercampur melalui perkawinan\n",
      "    TARGET: yiru aratini here sagar bakamuh mitah piaduan\n",
      " PREDICTED: yiru aratini here sagar bakamuh\n",
      "--------------------------------------------------------------------------------\n",
      "    SOURCE: dan telah memberitahukan kepadaku sekarang apa yang kami mohon kepada mu\n",
      "    TARGET: nelang haut iwara ma aku taati inun sa nalaku kami ma hanyu\n",
      " PREDICTED: nelang haut iwara ma aku taati inun sa kami ma hanyu\n",
      "--------------------------------------------------------------------------------\n",
      "    SOURCE: allah semesta langit akan mendirikan suatu kerajaan yang tidak akan dihancurkan sampai selama lamanya\n",
      "    TARGET: alatalla hapus langit sagar ngampinri isa karajaan sa puang sagar nasamawai hampe kalalawahni\n",
      " PREDICTED: alatalla hapus langit sagar isa karajaan sa puang sagar hampe kalalawahni\n",
      "--------------------------------------------------------------------------------\n",
      "    SOURCE: anak yang tua akan menjadi hamba bagi yang muda\n",
      "    TARGET: anak sa taraulu sagar jari walah ma sa ia\n",
      " PREDICTED: anak sa taraulu sagar jari walah ma sa\n",
      "--------------------------------------------------------------------------------\n",
      "    SOURCE: lalu memberi anak itu minum\n",
      "    TARGET: udi yiru hanye ngami anak yiru nguut ranu\n",
      " PREDICTED: udi yiru hanye ngami anak yiru ranu\n",
      "--------------------------------------------------------------------------------\n",
      "    SOURCE: dan tampaklah malaikatmalaikat allah naik turun di tangga itu\n",
      "    TARGET: nelang tantau kawan malekat alatalla minaumammai hang tukat yiru\n",
      " PREDICTED: nelang alatalla hang\n",
      "--------------------------------------------------------------------------------\n"
     ]
    }
   ],
   "source": [
    "run_validation(model, val_dataloader, tokenizer_src, tokenizer_tgt, config['seq_len'], device, lambda msg: print(msg), 0, None, num_examples=10)"
   ]
  }
 ],
 "metadata": {
  "kernelspec": {
   "display_name": "transformer",
   "language": "python",
   "name": "python3"
  },
  "language_info": {
   "codemirror_mode": {
    "name": "ipython",
    "version": 3
   },
   "file_extension": ".py",
   "mimetype": "text/x-python",
   "name": "python",
   "nbconvert_exporter": "python",
   "pygments_lexer": "ipython3",
   "version": "3.11.4"
  },
  "orig_nbformat": 4
 },
 "nbformat": 4,
 "nbformat_minor": 2
}
