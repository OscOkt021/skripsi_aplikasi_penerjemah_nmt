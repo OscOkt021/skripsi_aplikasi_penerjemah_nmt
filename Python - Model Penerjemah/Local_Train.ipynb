{
  "cells": [
    {
      "cell_type": "code",
      "execution_count": 3,
      "metadata": {
        "colab": {
          "base_uri": "https://localhost:8080/",
          "height": 198,
          "referenced_widgets": [
            "0ce327d5112b44dbb20e57752afc478a",
            "423a3059ad1a4e01bd01095cf1b41e14",
            "9cf2d2e2bfe24f2ab185165d79da8bdb",
            "996ac47b200c427088ee7644fe886896",
            "9b9addf13301466b9ef30b9d4b836a67",
            "ec2051bf0e9343d394e8a0ecb4fd5ec8",
            "56049bd375cd4512a0deaf69b7dae245",
            "140f33387db341398bc39e9c47703df4",
            "b3a8424c0b584a37ad2ede748085425c",
            "cb7d88a70af746f2ae31416b4b670c63",
            "4837276e5cf248449e287b1eeaef30ec",
            "3ab0f2022e654458875c2c091908e8c9",
            "f74bdeb79a224de8b1c85f4ca8657331",
            "4eb62038f89d4a8cb2c46e6a7cc70150",
            "9055fd09043642e0ae3d8a7a7c0ab31b",
            "4a2ead337d5c4ded9f28c93a70db1f08",
            "888a323362ae4daeac99915bcb3dcf10",
            "4d0e364e9f274e8ea7447e4e01c7f28f",
            "78a32764678a42f0a5a892f5275d88de",
            "aa17c3a834694a978046808fc5d29da1",
            "11e011e4acb24519bd41a054ddecbfb1",
            "5d1a9518abd44c18b122e575a7548ed2",
            "76e80fb236f5491597c992d1a809be33",
            "f7359467b0214c5385de8ee4334f7ba3",
            "a58ac736aa884eb9a27264cb04bb36ce",
            "6e6f7b7cccaa4f0cbfc9311db257bea1",
            "0656eee26364487f81580c3864e7a159",
            "05240e68c55a458286f43967e7f90889",
            "8cfa6df0ee654643bfdb4a3825e8fbbe",
            "96baa91869eb478eb492754b98169470",
            "bbda5260ca1c450386f9191e9f9dde97",
            "6fc5bec49f17469db39e0d4b535b94e9",
            "67822d28f8584e69abcb041b88377a9f",
            "aa082ade829247dc8ea0d75cc8a5b2a7",
            "83bc41f428b7492e9defdaa177f33a3e",
            "7f168d0ea11c4ea1a96202d3a36ec389",
            "ebb7ee3fd084466f9667771a99e6e3b2",
            "1e3c2a94251b4e75af0413a88b53bfe1",
            "a1188f80f78c49c7a822d71694e47074",
            "068552491889440e8a66e61b9f013786",
            "c88027eb3e1c4771ab57366070ecd553",
            "df75b255bfb04057b553830b59f0a153",
            "f0e5024d0d054c1eb8e01c4c8b027e79",
            "937ee45f4d634d189c6d95c886e97bca",
            "c2d14fa4280c48e0ae04859b73c80781",
            "d3104837d9734834b7c87e87289b08df",
            "02b02005adf241a4a0be8173ca3a4aee",
            "b317ba38f2b145f9b0b49f523547684f",
            "434340d109d1401d8868498a23b291cf",
            "2c95f5b81fc84ad698fe77b52cb84076",
            "ca588157678e4cc09c3fd760676efd39",
            "c020b38c6d2c436e8b742fd87d3b8b89",
            "3dc97a04373f484d9ccd1c46646d96cc",
            "4aed1fa58b7342eba35c2106ec934019",
            "60c72c47a8d84f0eab652822bed1ed09"
          ]
        },
        "id": "gGDOaOoIwGc5",
        "outputId": "4180e60a-8985-4795-8e72-373deabc1ebc"
      },
      "outputs": [
        {
          "name": "stdout",
          "output_type": "stream",
          "text": [
            "Using device: cuda\n",
            "Max length of source sentence: 24\n",
            "Max length of target sentence: 22\n"
          ]
        },
        {
          "name": "stderr",
          "output_type": "stream",
          "text": [
            "Processing Epoch 00: 100%|██████████| 73/73 [13:08<00:00, 10.80s/it, loss=4.193]\n"
          ]
        },
        {
          "name": "stdout",
          "output_type": "stream",
          "text": [
            "--------------------------------------------------------------------------------\n",
            "    SOURCE: mereka menetap berhadapan dengan semua saudaranya\n",
            "    TARGET: here muneng sawung hadap anri kawan pulaksanaini\n",
            " PREDICTED: \n",
            "--------------------------------------------------------------------------------\n",
            "    SOURCE: nenek cepat tidur kalau kecapekan\n",
            "    TARGET: itak hinang manre amun kauyuhan\n",
            " PREDICTED: \n",
            "--------------------------------------------------------------------------------\n"
          ]
        },
        {
          "name": "stderr",
          "output_type": "stream",
          "text": [
            "Processing Epoch 01: 100%|██████████| 73/73 [12:17<00:00, 10.10s/it, loss=3.546]\n"
          ]
        },
        {
          "name": "stdout",
          "output_type": "stream",
          "text": [
            "--------------------------------------------------------------------------------\n",
            "    SOURCE: aku ikut perjalanan dinas ke palangka\n",
            "    TARGET: aku uma perjalanan dinas ma palangka\n",
            " PREDICTED: aku\n",
            "--------------------------------------------------------------------------------\n",
            "    SOURCE: lauk malam ini adalah sop ayam\n",
            "    TARGET: luwen kamalem na sop manu\n",
            " PREDICTED: \n",
            "--------------------------------------------------------------------------------\n"
          ]
        },
        {
          "name": "stderr",
          "output_type": "stream",
          "text": [
            "Processing Epoch 02: 100%|██████████| 73/73 [12:16<00:00, 10.08s/it, loss=2.915]\n"
          ]
        },
        {
          "name": "stdout",
          "output_type": "stream",
          "text": [
            "--------------------------------------------------------------------------------\n",
            "    SOURCE: sesungguhnya allahmu itu allah di atas segala ilah dan yang berkuasa atas segala raja\n",
            "    TARGET: kapinuuni alatallanu yiru alatalla hang ammau katantuluh nanyu saniang nelang sa bakuasa ma katantuluh raja\n",
            " PREDICTED: ma kawan\n",
            "--------------------------------------------------------------------------------\n",
            "    SOURCE: itu tidak dapat diambil\n",
            "    TARGET: yiru puang tau na alap\n",
            " PREDICTED: puang tau na\n",
            "--------------------------------------------------------------------------------\n"
          ]
        },
        {
          "name": "stderr",
          "output_type": "stream",
          "text": [
            "Processing Epoch 03: 100%|██████████| 73/73 [12:14<00:00, 10.07s/it, loss=2.694]\n"
          ]
        },
        {
          "name": "stdout",
          "output_type": "stream",
          "text": [
            "--------------------------------------------------------------------------------\n",
            "    SOURCE: selamat pagi semuanya\n",
            "    TARGET: selamat kaiyat katuluh ni\n",
            " PREDICTED: kaiyat katuluh ni\n",
            "--------------------------------------------------------------------------------\n",
            "    SOURCE: perak ini tidak bisa dimakan\n",
            "    TARGET: perak na puang tau na kuta\n",
            " PREDICTED: puang tau na puang tau na\n",
            "--------------------------------------------------------------------------------\n"
          ]
        },
        {
          "name": "stderr",
          "output_type": "stream",
          "text": [
            "Processing Epoch 04: 100%|██████████| 73/73 [12:14<00:00, 10.06s/it, loss=2.349]\n"
          ]
        },
        {
          "name": "stdout",
          "output_type": "stream",
          "text": [
            "--------------------------------------------------------------------------------\n",
            "    SOURCE: siapa yang membuatmu sakit hati\n",
            "    TARGET: hiye sa ngulah hanyu hanang atei\n",
            " PREDICTED: inun sa ngulah atei hanang atei\n",
            "--------------------------------------------------------------------------------\n",
            "    SOURCE: aku ikut perjalanan dinas ke palangka\n",
            "    TARGET: aku uma perjalanan dinas ma palangka\n",
            " PREDICTED: aku\n",
            "--------------------------------------------------------------------------------\n"
          ]
        },
        {
          "name": "stderr",
          "output_type": "stream",
          "text": [
            "Processing Epoch 05: 100%|██████████| 73/73 [12:14<00:00, 10.06s/it, loss=2.042]\n"
          ]
        },
        {
          "name": "stdout",
          "output_type": "stream",
          "text": [
            "--------------------------------------------------------------------------------\n",
            "    SOURCE: kisah jaman dulu\n",
            "    TARGET: kisah tawuk sadi\n",
            " PREDICTED: sadi\n",
            "--------------------------------------------------------------------------------\n",
            "    SOURCE: ayah pergi ke sawah untuk bersawah\n",
            "    TARGET: amah tulak ma sawah kai ngume\n",
            " PREDICTED: tulak ma\n",
            "--------------------------------------------------------------------------------\n"
          ]
        },
        {
          "name": "stderr",
          "output_type": "stream",
          "text": [
            "Processing Epoch 06: 100%|██████████| 73/73 [15:46<00:00, 12.97s/it, loss=1.992]\n"
          ]
        },
        {
          "name": "stdout",
          "output_type": "stream",
          "text": [
            "--------------------------------------------------------------------------------\n",
            "    SOURCE: perempuan mesir itu bagi abraham sedang tertawatawaa\n",
            "    TARGET: wawei mesir yiru ma hi abraham  rahat kakihikihi\n",
            " PREDICTED: wawei mesir yiru ma hi abraham\n",
            "--------------------------------------------------------------------------------\n",
            "    SOURCE: di mana rumah mu\n",
            "    TARGET: hang awe lewu nu\n",
            " PREDICTED: hang awe lewu\n",
            "--------------------------------------------------------------------------------\n"
          ]
        },
        {
          "name": "stderr",
          "output_type": "stream",
          "text": [
            "Processing Epoch 07: 100%|██████████| 73/73 [15:43<00:00, 12.93s/it, loss=1.872]\n"
          ]
        },
        {
          "name": "stdout",
          "output_type": "stream",
          "text": [
            "--------------------------------------------------------------------------------\n",
            "    SOURCE: kemudian kerajaan ketiga\n",
            "    TARGET: udi yiru karajaan katelu\n",
            " PREDICTED: udi yiru karajaan\n",
            "--------------------------------------------------------------------------------\n",
            "    SOURCE: akulah tuhan allah abraham kakekmu dan allah ishak\n",
            "    TARGET: aku yina tuhan alatalla abraham  datu nininu  nelang alatalla ishak\n",
            " PREDICTED: alatalla lengan anak upu yiru\n",
            "--------------------------------------------------------------------------------\n"
          ]
        },
        {
          "name": "stderr",
          "output_type": "stream",
          "text": [
            "Processing Epoch 08: 100%|██████████| 73/73 [13:19<00:00, 10.96s/it, loss=1.754]\n"
          ]
        },
        {
          "name": "stdout",
          "output_type": "stream",
          "text": [
            "--------------------------------------------------------------------------------\n",
            "    SOURCE: tetapi tidak akan menjadi satu\n",
            "    TARGET: kude puang sagar jari isa\n",
            " PREDICTED: kude puang sagar jari isa jari\n",
            "--------------------------------------------------------------------------------\n",
            "    SOURCE: tidak ada orang di sana\n",
            "    TARGET: mahi ulun hang yaru\n",
            " PREDICTED: mahi ulun hang yaru\n",
            "--------------------------------------------------------------------------------\n"
          ]
        },
        {
          "name": "stderr",
          "output_type": "stream",
          "text": [
            "Processing Epoch 09: 100%|██████████| 73/73 [13:36<00:00, 11.19s/it, loss=1.493]\n"
          ]
        },
        {
          "name": "stdout",
          "output_type": "stream",
          "text": [
            "--------------------------------------------------------------------------------\n",
            "    SOURCE: ke rumah betuel\n",
            "    TARGET: ma lewu betuel\n",
            " PREDICTED: ma lewu\n",
            "--------------------------------------------------------------------------------\n",
            "    SOURCE: sesudah itu abraham cukup lama tinggal sebagai pendatang di negeri orang filistin\n",
            "    TARGET: udi yiru hi abraham sadang lawah muneng jari ulun hawien hang tane ranu ulun filistin\n",
            " PREDICTED: udi yiru hi abraham muneng jari ulun hang tane ranu ulun\n",
            "--------------------------------------------------------------------------------\n"
          ]
        },
        {
          "name": "stderr",
          "output_type": "stream",
          "text": [
            "Processing Epoch 10: 100%|██████████| 73/73 [13:54<00:00, 11.43s/it, loss=1.437]\n"
          ]
        },
        {
          "name": "stdout",
          "output_type": "stream",
          "text": [
            "--------------------------------------------------------------------------------\n",
            "    SOURCE: kalau ingin belajar jangan bermain\n",
            "    TARGET: amun hamen paajar ada tuli\n",
            " PREDICTED: amun hamen paajar ada tuli\n",
            "--------------------------------------------------------------------------------\n",
            "    SOURCE: ia dinamai esau\n",
            "    TARGET: daya yiru hanye naampingaran hi esau\n",
            " PREDICTED: daya yiru hanye hi esau\n",
            "--------------------------------------------------------------------------------\n"
          ]
        },
        {
          "name": "stderr",
          "output_type": "stream",
          "text": [
            "Processing Epoch 11: 100%|██████████| 73/73 [16:25<00:00, 13.51s/it, loss=1.252]\n"
          ]
        },
        {
          "name": "stdout",
          "output_type": "stream",
          "text": [
            "--------------------------------------------------------------------------------\n",
            "    SOURCE: dan pengetahuan kepada orang berpengertian\n",
            "    TARGET: nelang kataruen ma ulun sa kataru\n",
            " PREDICTED: nelang ma ulun sa kataru\n",
            "--------------------------------------------------------------------------------\n",
            "    SOURCE: di sebelah kanan sana ada orang menjual durian\n",
            "    TARGET: hang tuhi kawan yaru naan ulun ngari ruyan\n",
            " PREDICTED: hang tuhi kawan yaru naan ulun ngari ruyan\n",
            "--------------------------------------------------------------------------------\n"
          ]
        },
        {
          "name": "stderr",
          "output_type": "stream",
          "text": [
            "Processing Epoch 12: 100%|██████████| 73/73 [13:54<00:00, 11.43s/it, loss=1.499]\n"
          ]
        },
        {
          "name": "stdout",
          "output_type": "stream",
          "text": [
            "--------------------------------------------------------------------------------\n",
            "    SOURCE: allah menyertai engkau dalam segala sesuatu yang kau lakukan\n",
            "    TARGET: alatalla nyinrah hanyu hang wuang katantuluh pigawiannu\n",
            " PREDICTED: alatalla nyinrah hanyu hang wuang katantuluh\n",
            "--------------------------------------------------------------------------------\n",
            "    SOURCE: banyak orang menjual ikan ketika hari jum'at\n",
            "    TARGET: hene ulun ngari kenah pas andrau jumahat\n",
            " PREDICTED: ulun ngari andrau\n",
            "--------------------------------------------------------------------------------\n"
          ]
        },
        {
          "name": "stderr",
          "output_type": "stream",
          "text": [
            "Processing Epoch 13: 100%|██████████| 73/73 [13:55<00:00, 11.45s/it, loss=1.215]\n"
          ]
        },
        {
          "name": "stdout",
          "output_type": "stream",
          "text": [
            "--------------------------------------------------------------------------------\n",
            "    SOURCE: selamat pagi teman-teman semua\n",
            "    TARGET: salamat kaiyat kawan hengau katuluh ni\n",
            " PREDICTED: kaiyat kawan katuluh ni\n",
            "--------------------------------------------------------------------------------\n",
            "    SOURCE: sebab aku akan membuat dia menjadi bangsa yang besar\n",
            "    TARGET: daya aku sagar ngulah hanye jari bummuh sa hante\n",
            " PREDICTED: daya aku sagar ngulah hanye jari bummuh sa hante\n",
            "--------------------------------------------------------------------------------\n"
          ]
        },
        {
          "name": "stderr",
          "output_type": "stream",
          "text": [
            "Processing Epoch 14: 100%|██████████| 73/73 [14:46<00:00, 12.15s/it, loss=1.196]\n"
          ]
        },
        {
          "name": "stdout",
          "output_type": "stream",
          "text": [
            "--------------------------------------------------------------------------------\n",
            "    SOURCE: ayo kita ke pantai besok\n",
            "    TARGET: hayu takam ma pantai kauni\n",
            " PREDICTED: takam ma\n",
            "--------------------------------------------------------------------------------\n",
            "    SOURCE: bahwa engkau tidak akan berlaku curang kepadaku\n",
            "    TARGET: amun hanyu puang sagar sulas ma aku\n",
            " PREDICTED: amun hanyu puang sagar ma aku\n",
            "--------------------------------------------------------------------------------\n"
          ]
        },
        {
          "name": "stderr",
          "output_type": "stream",
          "text": [
            "Processing Epoch 15: 100%|██████████| 73/73 [14:03<00:00, 11.56s/it, loss=1.132]\n"
          ]
        },
        {
          "name": "stdout",
          "output_type": "stream",
          "text": [
            "--------------------------------------------------------------------------------\n",
            "    SOURCE: rumah nenek gumer, dengan kakek gumer\n",
            "    TARGET: lewu itak gumer, baya kakah gumer\n",
            " PREDICTED: lewu itak gumer , baya kakah gumer\n",
            "--------------------------------------------------------------------------------\n",
            "    SOURCE: inilah mimpi dan penglihatan penglihatan yang tuanku lihat di tempat tidur\n",
            "    TARGET: yina upi anri kawan paninungan sa dinung tuanku hang paanrean\n",
            " PREDICTED: yina upi anri kawan paninungan sa dinung tuanku hang\n",
            "--------------------------------------------------------------------------------\n"
          ]
        },
        {
          "name": "stderr",
          "output_type": "stream",
          "text": [
            "Processing Epoch 16: 100%|██████████| 73/73 [13:26<00:00, 11.05s/it, loss=1.078]\n"
          ]
        },
        {
          "name": "stdout",
          "output_type": "stream",
          "text": [
            "--------------------------------------------------------------------------------\n",
            "    SOURCE: aku tidak tahan melihat anak itu mati\n",
            "    TARGET: aku puang kaule kadinung anak yiru matei\n",
            " PREDICTED: puang aku kadinung anak yiru matei\n",
            "--------------------------------------------------------------------------------\n",
            "    SOURCE: allah memberkati ishak anaknya\n",
            "    TARGET: alatalla mamberkat hi ishak  anakni\n",
            " PREDICTED: alatalla mamberkat hi ishak anakni\n",
            "--------------------------------------------------------------------------------\n"
          ]
        },
        {
          "name": "stderr",
          "output_type": "stream",
          "text": [
            "Processing Epoch 17: 100%|██████████| 73/73 [12:51<00:00, 10.57s/it, loss=1.192]\n"
          ]
        },
        {
          "name": "stdout",
          "output_type": "stream",
          "text": [
            "--------------------------------------------------------------------------------\n",
            "    SOURCE: ia tinggal di padang gurun paran\n",
            "    TARGET: hanye muneng hang padang suni murumiuk paran\n",
            " PREDICTED: hanye muneng hang\n",
            "--------------------------------------------------------------------------------\n",
            "    SOURCE: si ape berjalan, sampai rumah orang\n",
            "    TARGET: hi ape sakia-kia, hampe lewu ulun\n",
            " PREDICTED: hi ape , hampe lewu ulun\n",
            "--------------------------------------------------------------------------------\n"
          ]
        },
        {
          "name": "stderr",
          "output_type": "stream",
          "text": [
            "Processing Epoch 18: 100%|██████████| 73/73 [12:51<00:00, 10.57s/it, loss=1.161]\n"
          ]
        },
        {
          "name": "stdout",
          "output_type": "stream",
          "text": [
            "--------------------------------------------------------------------------------\n",
            "    SOURCE: pemerintah ini memiliki kekuasaan\n",
            "    TARGET: pemerintah na naan kakuasaan\n",
            " PREDICTED: na naan\n",
            "--------------------------------------------------------------------------------\n",
            "    SOURCE: inilah mimpi dan penglihatan penglihatan yang tuanku lihat di tempat tidur\n",
            "    TARGET: yina upi anri kawan paninungan sa dinung tuanku hang paanrean\n",
            " PREDICTED: yina upi anri kawan paninungan sa dinung tuanku hang\n",
            "--------------------------------------------------------------------------------\n"
          ]
        },
        {
          "name": "stderr",
          "output_type": "stream",
          "text": [
            "Processing Epoch 19: 100%|██████████| 73/73 [12:51<00:00, 10.56s/it, loss=1.084]\n"
          ]
        },
        {
          "name": "stdout",
          "output_type": "stream",
          "text": [
            "--------------------------------------------------------------------------------\n",
            "    SOURCE: sebab dari  ishaklah yang akan disebut keturunanmu\n",
            "    TARGET: daya teka hi ishak sa sagar naantuh turunannu\n",
            " PREDICTED: daya teka hi ishak sa sagar\n",
            "--------------------------------------------------------------------------------\n",
            "    SOURCE: sebab istrinya itu mandul\n",
            "    TARGET: daya matueh waweini yiru tamanang\n",
            " PREDICTED: daya matueh waweini yiru\n",
            "--------------------------------------------------------------------------------\n"
          ]
        },
        {
          "name": "stderr",
          "output_type": "stream",
          "text": [
            "Processing Epoch 20: 100%|██████████| 73/73 [12:51<00:00, 10.56s/it, loss=1.057]\n"
          ]
        },
        {
          "name": "stdout",
          "output_type": "stream",
          "text": [
            "--------------------------------------------------------------------------------\n",
            "    SOURCE: dia yang menyingkapkan rahasia rahasia telah memberitahukan kepada tuanku apa yang akan terjadi\n",
            "    TARGET: hanye sa nguka kawan rahasia haut iwara ma tuanku inun sa sagar jari\n",
            " PREDICTED: hanye sa nguka kawan rahasia haut iwara ma tuanku inun sa sagar jari\n",
            "--------------------------------------------------------------------------------\n",
            "    SOURCE: ke tanah timur\n",
            "    TARGET: ma tane timur\n",
            " PREDICTED: ma tane timur\n",
            "--------------------------------------------------------------------------------\n"
          ]
        },
        {
          "name": "stderr",
          "output_type": "stream",
          "text": [
            "Processing Epoch 21: 100%|██████████| 73/73 [12:52<00:00, 10.58s/it, loss=1.154]\n"
          ]
        },
        {
          "name": "stdout",
          "output_type": "stream",
          "text": [
            "--------------------------------------------------------------------------------\n",
            "    SOURCE: nebayot\n",
            "    TARGET: hi nebayot\n",
            " PREDICTED: kawan anakni\n",
            "--------------------------------------------------------------------------------\n",
            "    SOURCE: aku ucapkan terima kasih untuk semua\n",
            "    TARGET: aku antuh terima kasih ma katuluh\n",
            " PREDICTED: aku terima kasih ma katuluh\n",
            "--------------------------------------------------------------------------------\n"
          ]
        },
        {
          "name": "stderr",
          "output_type": "stream",
          "text": [
            "Processing Epoch 22: 100%|██████████| 73/73 [12:51<00:00, 10.56s/it, loss=1.112]\n"
          ]
        },
        {
          "name": "stdout",
          "output_type": "stream",
          "text": [
            "--------------------------------------------------------------------------------\n",
            "    SOURCE: inilah pintu gerbang surga\n",
            "    TARGET: yina wanawang surga\n",
            " PREDICTED: anak tukui\n",
            "--------------------------------------------------------------------------------\n",
            "    SOURCE: sebab itu\n",
            "    TARGET: daya yiru\n",
            " PREDICTED: daya yiru\n",
            "--------------------------------------------------------------------------------\n"
          ]
        },
        {
          "name": "stderr",
          "output_type": "stream",
          "text": [
            "Processing Epoch 23: 100%|██████████| 73/73 [12:51<00:00, 10.57s/it, loss=1.080]\n"
          ]
        },
        {
          "name": "stdout",
          "output_type": "stream",
          "text": [
            "--------------------------------------------------------------------------------\n",
            "    SOURCE: pada waktu ishak memberkati yakub ia berpesan kepadanya\n",
            "    TARGET: hentek hi ishak mamberkat hi yakub hanye ipesen ma hi yakub\n",
            " PREDICTED: hentek hanye hi ishak hi yakub\n",
            "--------------------------------------------------------------------------------\n",
            "    SOURCE: ia tinggal di padang gurun paran\n",
            "    TARGET: hanye muneng hang padang suni murumiuk paran\n",
            " PREDICTED: hanye muneng hang\n",
            "--------------------------------------------------------------------------------\n"
          ]
        },
        {
          "name": "stderr",
          "output_type": "stream",
          "text": [
            "Processing Epoch 24: 100%|██████████| 73/73 [12:51<00:00, 10.56s/it, loss=1.061]\n"
          ]
        },
        {
          "name": "stdout",
          "output_type": "stream",
          "text": [
            "--------------------------------------------------------------------------------\n",
            "    SOURCE: sementara tuanku melihatnya\n",
            "    TARGET: padingian tuanku ninungni\n",
            " PREDICTED: tuanku\n",
            "--------------------------------------------------------------------------------\n",
            "    SOURCE: aku datang cepat supaya tidak ketinggalan\n",
            "    TARGET: aku hawi hinang nampan puang tatanan\n",
            " PREDICTED: aku hawi nampan puang\n",
            "--------------------------------------------------------------------------------\n"
          ]
        },
        {
          "name": "stderr",
          "output_type": "stream",
          "text": [
            "Processing Epoch 25: 100%|██████████| 73/73 [12:51<00:00, 10.57s/it, loss=1.100]\n"
          ]
        },
        {
          "name": "stdout",
          "output_type": "stream",
          "text": [
            "--------------------------------------------------------------------------------\n",
            "    SOURCE: bisakah aku meminta tolong\n",
            "    TARGET: tau lah aku laku karawah\n",
            " PREDICTED: tau aku laku\n",
            "--------------------------------------------------------------------------------\n",
            "    SOURCE: itulah sebabnya namanya disebut edom\n",
            "    TARGET: yiruleh ganani ngaranni naantuh hi edom\n",
            " PREDICTED: \n",
            "--------------------------------------------------------------------------------\n"
          ]
        },
        {
          "name": "stderr",
          "output_type": "stream",
          "text": [
            "Processing Epoch 26: 100%|██████████| 73/73 [13:00<00:00, 10.69s/it, loss=1.075]\n"
          ]
        },
        {
          "name": "stdout",
          "output_type": "stream",
          "text": [
            "--------------------------------------------------------------------------------\n",
            "    SOURCE: sakit sekali mata kakiku ini\n",
            "    TARGET: hanang tuu bakulaling watku na\n",
            " PREDICTED: hanang tuu na\n",
            "--------------------------------------------------------------------------------\n",
            "    SOURCE: orang aram itu\n",
            "    TARGET: ulun aram yiru\n",
            " PREDICTED: ulun aram yiru\n",
            "--------------------------------------------------------------------------------\n"
          ]
        },
        {
          "name": "stderr",
          "output_type": "stream",
          "text": [
            "Processing Epoch 27: 100%|██████████| 73/73 [12:50<00:00, 10.55s/it, loss=0.994]\n"
          ]
        },
        {
          "name": "stdout",
          "output_type": "stream",
          "text": [
            "--------------------------------------------------------------------------------\n",
            "    SOURCE: tetapi anakanak di dalam rahimnya saling melawan\n",
            "    TARGET: kude kawan anakni hang wuang wuntungni ipanawan\n",
            " PREDICTED: kude kawan anakni hang wuang\n",
            "--------------------------------------------------------------------------------\n",
            "    SOURCE: sesuai dengan kesetiaan yang kutunjukkan kepadamu\n",
            "    TARGET: manyu sinta satia sa natantarangku ma hanyu\n",
            " PREDICTED: manyu sa ma hanyu\n",
            "--------------------------------------------------------------------------------\n"
          ]
        },
        {
          "name": "stderr",
          "output_type": "stream",
          "text": [
            "Processing Epoch 28: 100%|██████████| 73/73 [12:49<00:00, 10.55s/it, loss=1.013]\n"
          ]
        },
        {
          "name": "stdout",
          "output_type": "stream",
          "text": [
            "--------------------------------------------------------------------------------\n",
            "    SOURCE: siapa yang melakukan hal itu\n",
            "    TARGET: hie sa ngulah hal yiru\n",
            " PREDICTED: sa ngulah hal yiru\n",
            "--------------------------------------------------------------------------------\n",
            "    SOURCE: jika kamu ke kota palangka menggunakan travel kamu tidak bisa singgah untuk buang air kecil\n",
            "    TARGET: amun hanyu ma kota palangka uma travel hanyu puang tau sindrah amini\n",
            " PREDICTED: amun hanyu ma palangka\n",
            "--------------------------------------------------------------------------------\n"
          ]
        },
        {
          "name": "stderr",
          "output_type": "stream",
          "text": [
            "Processing Epoch 29: 100%|██████████| 73/73 [12:53<00:00, 10.60s/it, loss=0.995]\n"
          ]
        },
        {
          "name": "stdout",
          "output_type": "stream",
          "text": [
            "--------------------------------------------------------------------------------\n",
            "    SOURCE: di mana kamu sekarang\n",
            "    TARGET: hang awe hanyu na itati\n",
            " PREDICTED: hang awe hanyu na\n",
            "--------------------------------------------------------------------------------\n",
            "    SOURCE: mereka berdua berkelahi karena perempuan\n",
            "    TARGET: here rueh babur daya wawei\n",
            " PREDICTED: here rueh daya wawei\n",
            "--------------------------------------------------------------------------------\n"
          ]
        }
      ],
      "source": [
        "from config import get_config\n",
        "\n",
        "# nEpoch akan digunakan jika melanjutkan epoch sebelumnya \n",
        "# nEpoch = 57\n",
        "\n",
        "cfg = get_config()\n",
        "cfg['batch_size'] = 8\n",
        "\n",
        "# Mengubah nama file Model yang disimpan\n",
        "# cfg['model_basename'] = \"tmodel_eight_\"\n",
        "cfg['model_basename'] = \"tmodel_new_id_\"\n",
        "# cfg['model_basename'] = \"tmodel_eight_four_\"\n",
        "# cfg['model_basename'] = \"tmodel_eight_four_id_\"\n",
        "\n",
        "# Training bahasa target menjadi bahasa Maanyan\n",
        "cfg['lang_src'] = \"Indonesia\"\n",
        "cfg['lang_tgt'] = \"Maanyan\"\n",
        "\n",
        "# Jika ingin melanjutkan Epoch\n",
        "# cfg['preload'] = f\"{nEpoch}\" # nanti isi 19\n",
        "\n",
        "# Menentukan jumlah Epoch pada Training\n",
        "cfg['num_epochs'] = 30\n",
        "# cfg['num_epochs'] = nEpoch + 4\n",
        "\n",
        "from train import train_model\n",
        "\n",
        "train_model(cfg)"
      ]
    },
    {
      "cell_type": "code",
      "execution_count": null,
      "metadata": {},
      "outputs": [],
      "source": []
    }
  ],
  "metadata": {
    "accelerator": "GPU",
    "colab": {
      "gpuType": "T4",
      "provenance": []
    },
    "gpuClass": "standard",
    "kernelspec": {
      "display_name": "Python 3",
      "name": "python3"
    },
    "language_info": {
      "codemirror_mode": {
        "name": "ipython",
        "version": 3
      },
      "file_extension": ".py",
      "mimetype": "text/x-python",
      "name": "python",
      "nbconvert_exporter": "python",
      "pygments_lexer": "ipython3",
      "version": "3.11.4"
    },
    "widgets": {
      "application/vnd.jupyter.widget-state+json": {
        "02b02005adf241a4a0be8173ca3a4aee": {
          "model_module": "@jupyter-widgets/controls",
          "model_module_version": "1.5.0",
          "model_name": "FloatProgressModel",
          "state": {
            "_dom_classes": [],
            "_model_module": "@jupyter-widgets/controls",
            "_model_module_version": "1.5.0",
            "_model_name": "FloatProgressModel",
            "_view_count": null,
            "_view_module": "@jupyter-widgets/controls",
            "_view_module_version": "1.5.0",
            "_view_name": "ProgressView",
            "bar_style": "",
            "description": "",
            "description_tooltip": null,
            "layout": "IPY_MODEL_c020b38c6d2c436e8b742fd87d3b8b89",
            "max": 32332,
            "min": 0,
            "orientation": "horizontal",
            "style": "IPY_MODEL_3dc97a04373f484d9ccd1c46646d96cc",
            "value": 32332
          }
        },
        "05240e68c55a458286f43967e7f90889": {
          "model_module": "@jupyter-widgets/base",
          "model_module_version": "1.2.0",
          "model_name": "LayoutModel",
          "state": {
            "_model_module": "@jupyter-widgets/base",
            "_model_module_version": "1.2.0",
            "_model_name": "LayoutModel",
            "_view_count": null,
            "_view_module": "@jupyter-widgets/base",
            "_view_module_version": "1.2.0",
            "_view_name": "LayoutView",
            "align_content": null,
            "align_items": null,
            "align_self": null,
            "border": null,
            "bottom": null,
            "display": null,
            "flex": null,
            "flex_flow": null,
            "grid_area": null,
            "grid_auto_columns": null,
            "grid_auto_flow": null,
            "grid_auto_rows": null,
            "grid_column": null,
            "grid_gap": null,
            "grid_row": null,
            "grid_template_areas": null,
            "grid_template_columns": null,
            "grid_template_rows": null,
            "height": null,
            "justify_content": null,
            "justify_items": null,
            "left": null,
            "margin": null,
            "max_height": null,
            "max_width": null,
            "min_height": null,
            "min_width": null,
            "object_fit": null,
            "object_position": null,
            "order": null,
            "overflow": null,
            "overflow_x": null,
            "overflow_y": null,
            "padding": null,
            "right": null,
            "top": null,
            "visibility": null,
            "width": null
          }
        },
        "0656eee26364487f81580c3864e7a159": {
          "model_module": "@jupyter-widgets/base",
          "model_module_version": "1.2.0",
          "model_name": "LayoutModel",
          "state": {
            "_model_module": "@jupyter-widgets/base",
            "_model_module_version": "1.2.0",
            "_model_name": "LayoutModel",
            "_view_count": null,
            "_view_module": "@jupyter-widgets/base",
            "_view_module_version": "1.2.0",
            "_view_name": "LayoutView",
            "align_content": null,
            "align_items": null,
            "align_self": null,
            "border": null,
            "bottom": null,
            "display": null,
            "flex": null,
            "flex_flow": null,
            "grid_area": null,
            "grid_auto_columns": null,
            "grid_auto_flow": null,
            "grid_auto_rows": null,
            "grid_column": null,
            "grid_gap": null,
            "grid_row": null,
            "grid_template_areas": null,
            "grid_template_columns": null,
            "grid_template_rows": null,
            "height": null,
            "justify_content": null,
            "justify_items": null,
            "left": null,
            "margin": null,
            "max_height": null,
            "max_width": null,
            "min_height": null,
            "min_width": null,
            "object_fit": null,
            "object_position": null,
            "order": null,
            "overflow": null,
            "overflow_x": null,
            "overflow_y": null,
            "padding": null,
            "right": null,
            "top": null,
            "visibility": null,
            "width": null
          }
        },
        "068552491889440e8a66e61b9f013786": {
          "model_module": "@jupyter-widgets/controls",
          "model_module_version": "1.5.0",
          "model_name": "DescriptionStyleModel",
          "state": {
            "_model_module": "@jupyter-widgets/controls",
            "_model_module_version": "1.5.0",
            "_model_name": "DescriptionStyleModel",
            "_view_count": null,
            "_view_module": "@jupyter-widgets/base",
            "_view_module_version": "1.2.0",
            "_view_name": "StyleView",
            "description_width": ""
          }
        },
        "0ce327d5112b44dbb20e57752afc478a": {
          "model_module": "@jupyter-widgets/controls",
          "model_module_version": "1.5.0",
          "model_name": "HBoxModel",
          "state": {
            "_dom_classes": [],
            "_model_module": "@jupyter-widgets/controls",
            "_model_module_version": "1.5.0",
            "_model_name": "HBoxModel",
            "_view_count": null,
            "_view_module": "@jupyter-widgets/controls",
            "_view_module_version": "1.5.0",
            "_view_name": "HBoxView",
            "box_style": "",
            "children": [
              "IPY_MODEL_423a3059ad1a4e01bd01095cf1b41e14",
              "IPY_MODEL_9cf2d2e2bfe24f2ab185165d79da8bdb",
              "IPY_MODEL_996ac47b200c427088ee7644fe886896"
            ],
            "layout": "IPY_MODEL_9b9addf13301466b9ef30b9d4b836a67"
          }
        },
        "11e011e4acb24519bd41a054ddecbfb1": {
          "model_module": "@jupyter-widgets/base",
          "model_module_version": "1.2.0",
          "model_name": "LayoutModel",
          "state": {
            "_model_module": "@jupyter-widgets/base",
            "_model_module_version": "1.2.0",
            "_model_name": "LayoutModel",
            "_view_count": null,
            "_view_module": "@jupyter-widgets/base",
            "_view_module_version": "1.2.0",
            "_view_name": "LayoutView",
            "align_content": null,
            "align_items": null,
            "align_self": null,
            "border": null,
            "bottom": null,
            "display": null,
            "flex": null,
            "flex_flow": null,
            "grid_area": null,
            "grid_auto_columns": null,
            "grid_auto_flow": null,
            "grid_auto_rows": null,
            "grid_column": null,
            "grid_gap": null,
            "grid_row": null,
            "grid_template_areas": null,
            "grid_template_columns": null,
            "grid_template_rows": null,
            "height": null,
            "justify_content": null,
            "justify_items": null,
            "left": null,
            "margin": null,
            "max_height": null,
            "max_width": null,
            "min_height": null,
            "min_width": null,
            "object_fit": null,
            "object_position": null,
            "order": null,
            "overflow": null,
            "overflow_x": null,
            "overflow_y": null,
            "padding": null,
            "right": null,
            "top": null,
            "visibility": null,
            "width": null
          }
        },
        "140f33387db341398bc39e9c47703df4": {
          "model_module": "@jupyter-widgets/base",
          "model_module_version": "1.2.0",
          "model_name": "LayoutModel",
          "state": {
            "_model_module": "@jupyter-widgets/base",
            "_model_module_version": "1.2.0",
            "_model_name": "LayoutModel",
            "_view_count": null,
            "_view_module": "@jupyter-widgets/base",
            "_view_module_version": "1.2.0",
            "_view_name": "LayoutView",
            "align_content": null,
            "align_items": null,
            "align_self": null,
            "border": null,
            "bottom": null,
            "display": null,
            "flex": null,
            "flex_flow": null,
            "grid_area": null,
            "grid_auto_columns": null,
            "grid_auto_flow": null,
            "grid_auto_rows": null,
            "grid_column": null,
            "grid_gap": null,
            "grid_row": null,
            "grid_template_areas": null,
            "grid_template_columns": null,
            "grid_template_rows": null,
            "height": null,
            "justify_content": null,
            "justify_items": null,
            "left": null,
            "margin": null,
            "max_height": null,
            "max_width": null,
            "min_height": null,
            "min_width": null,
            "object_fit": null,
            "object_position": null,
            "order": null,
            "overflow": null,
            "overflow_x": null,
            "overflow_y": null,
            "padding": null,
            "right": null,
            "top": null,
            "visibility": null,
            "width": null
          }
        },
        "1e3c2a94251b4e75af0413a88b53bfe1": {
          "model_module": "@jupyter-widgets/base",
          "model_module_version": "1.2.0",
          "model_name": "LayoutModel",
          "state": {
            "_model_module": "@jupyter-widgets/base",
            "_model_module_version": "1.2.0",
            "_model_name": "LayoutModel",
            "_view_count": null,
            "_view_module": "@jupyter-widgets/base",
            "_view_module_version": "1.2.0",
            "_view_name": "LayoutView",
            "align_content": null,
            "align_items": null,
            "align_self": null,
            "border": null,
            "bottom": null,
            "display": null,
            "flex": null,
            "flex_flow": null,
            "grid_area": null,
            "grid_auto_columns": null,
            "grid_auto_flow": null,
            "grid_auto_rows": null,
            "grid_column": null,
            "grid_gap": null,
            "grid_row": null,
            "grid_template_areas": null,
            "grid_template_columns": null,
            "grid_template_rows": null,
            "height": null,
            "justify_content": null,
            "justify_items": null,
            "left": null,
            "margin": null,
            "max_height": null,
            "max_width": null,
            "min_height": null,
            "min_width": null,
            "object_fit": null,
            "object_position": null,
            "order": null,
            "overflow": null,
            "overflow_x": null,
            "overflow_y": null,
            "padding": null,
            "right": null,
            "top": null,
            "visibility": null,
            "width": null
          }
        },
        "2c95f5b81fc84ad698fe77b52cb84076": {
          "model_module": "@jupyter-widgets/base",
          "model_module_version": "1.2.0",
          "model_name": "LayoutModel",
          "state": {
            "_model_module": "@jupyter-widgets/base",
            "_model_module_version": "1.2.0",
            "_model_name": "LayoutModel",
            "_view_count": null,
            "_view_module": "@jupyter-widgets/base",
            "_view_module_version": "1.2.0",
            "_view_name": "LayoutView",
            "align_content": null,
            "align_items": null,
            "align_self": null,
            "border": null,
            "bottom": null,
            "display": null,
            "flex": null,
            "flex_flow": null,
            "grid_area": null,
            "grid_auto_columns": null,
            "grid_auto_flow": null,
            "grid_auto_rows": null,
            "grid_column": null,
            "grid_gap": null,
            "grid_row": null,
            "grid_template_areas": null,
            "grid_template_columns": null,
            "grid_template_rows": null,
            "height": null,
            "justify_content": null,
            "justify_items": null,
            "left": null,
            "margin": null,
            "max_height": null,
            "max_width": null,
            "min_height": null,
            "min_width": null,
            "object_fit": null,
            "object_position": null,
            "order": null,
            "overflow": null,
            "overflow_x": null,
            "overflow_y": null,
            "padding": null,
            "right": null,
            "top": null,
            "visibility": null,
            "width": null
          }
        },
        "3ab0f2022e654458875c2c091908e8c9": {
          "model_module": "@jupyter-widgets/controls",
          "model_module_version": "1.5.0",
          "model_name": "HBoxModel",
          "state": {
            "_dom_classes": [],
            "_model_module": "@jupyter-widgets/controls",
            "_model_module_version": "1.5.0",
            "_model_name": "HBoxModel",
            "_view_count": null,
            "_view_module": "@jupyter-widgets/controls",
            "_view_module_version": "1.5.0",
            "_view_name": "HBoxView",
            "box_style": "",
            "children": [
              "IPY_MODEL_f74bdeb79a224de8b1c85f4ca8657331",
              "IPY_MODEL_4eb62038f89d4a8cb2c46e6a7cc70150",
              "IPY_MODEL_9055fd09043642e0ae3d8a7a7c0ab31b"
            ],
            "layout": "IPY_MODEL_4a2ead337d5c4ded9f28c93a70db1f08"
          }
        },
        "3dc97a04373f484d9ccd1c46646d96cc": {
          "model_module": "@jupyter-widgets/controls",
          "model_module_version": "1.5.0",
          "model_name": "ProgressStyleModel",
          "state": {
            "_model_module": "@jupyter-widgets/controls",
            "_model_module_version": "1.5.0",
            "_model_name": "ProgressStyleModel",
            "_view_count": null,
            "_view_module": "@jupyter-widgets/base",
            "_view_module_version": "1.2.0",
            "_view_name": "StyleView",
            "bar_color": null,
            "description_width": ""
          }
        },
        "423a3059ad1a4e01bd01095cf1b41e14": {
          "model_module": "@jupyter-widgets/controls",
          "model_module_version": "1.5.0",
          "model_name": "HTMLModel",
          "state": {
            "_dom_classes": [],
            "_model_module": "@jupyter-widgets/controls",
            "_model_module_version": "1.5.0",
            "_model_name": "HTMLModel",
            "_view_count": null,
            "_view_module": "@jupyter-widgets/controls",
            "_view_module_version": "1.5.0",
            "_view_name": "HTMLView",
            "description": "",
            "description_tooltip": null,
            "layout": "IPY_MODEL_ec2051bf0e9343d394e8a0ecb4fd5ec8",
            "placeholder": "​",
            "style": "IPY_MODEL_56049bd375cd4512a0deaf69b7dae245",
            "value": "Downloading builder script: 100%"
          }
        },
        "434340d109d1401d8868498a23b291cf": {
          "model_module": "@jupyter-widgets/base",
          "model_module_version": "1.2.0",
          "model_name": "LayoutModel",
          "state": {
            "_model_module": "@jupyter-widgets/base",
            "_model_module_version": "1.2.0",
            "_model_name": "LayoutModel",
            "_view_count": null,
            "_view_module": "@jupyter-widgets/base",
            "_view_module_version": "1.2.0",
            "_view_name": "LayoutView",
            "align_content": null,
            "align_items": null,
            "align_self": null,
            "border": null,
            "bottom": null,
            "display": null,
            "flex": null,
            "flex_flow": null,
            "grid_area": null,
            "grid_auto_columns": null,
            "grid_auto_flow": null,
            "grid_auto_rows": null,
            "grid_column": null,
            "grid_gap": null,
            "grid_row": null,
            "grid_template_areas": null,
            "grid_template_columns": null,
            "grid_template_rows": null,
            "height": null,
            "justify_content": null,
            "justify_items": null,
            "left": null,
            "margin": null,
            "max_height": null,
            "max_width": null,
            "min_height": null,
            "min_width": null,
            "object_fit": null,
            "object_position": null,
            "order": null,
            "overflow": null,
            "overflow_x": null,
            "overflow_y": null,
            "padding": null,
            "right": null,
            "top": null,
            "visibility": "hidden",
            "width": null
          }
        },
        "4837276e5cf248449e287b1eeaef30ec": {
          "model_module": "@jupyter-widgets/controls",
          "model_module_version": "1.5.0",
          "model_name": "DescriptionStyleModel",
          "state": {
            "_model_module": "@jupyter-widgets/controls",
            "_model_module_version": "1.5.0",
            "_model_name": "DescriptionStyleModel",
            "_view_count": null,
            "_view_module": "@jupyter-widgets/base",
            "_view_module_version": "1.2.0",
            "_view_name": "StyleView",
            "description_width": ""
          }
        },
        "4a2ead337d5c4ded9f28c93a70db1f08": {
          "model_module": "@jupyter-widgets/base",
          "model_module_version": "1.2.0",
          "model_name": "LayoutModel",
          "state": {
            "_model_module": "@jupyter-widgets/base",
            "_model_module_version": "1.2.0",
            "_model_name": "LayoutModel",
            "_view_count": null,
            "_view_module": "@jupyter-widgets/base",
            "_view_module_version": "1.2.0",
            "_view_name": "LayoutView",
            "align_content": null,
            "align_items": null,
            "align_self": null,
            "border": null,
            "bottom": null,
            "display": null,
            "flex": null,
            "flex_flow": null,
            "grid_area": null,
            "grid_auto_columns": null,
            "grid_auto_flow": null,
            "grid_auto_rows": null,
            "grid_column": null,
            "grid_gap": null,
            "grid_row": null,
            "grid_template_areas": null,
            "grid_template_columns": null,
            "grid_template_rows": null,
            "height": null,
            "justify_content": null,
            "justify_items": null,
            "left": null,
            "margin": null,
            "max_height": null,
            "max_width": null,
            "min_height": null,
            "min_width": null,
            "object_fit": null,
            "object_position": null,
            "order": null,
            "overflow": null,
            "overflow_x": null,
            "overflow_y": null,
            "padding": null,
            "right": null,
            "top": null,
            "visibility": null,
            "width": null
          }
        },
        "4aed1fa58b7342eba35c2106ec934019": {
          "model_module": "@jupyter-widgets/base",
          "model_module_version": "1.2.0",
          "model_name": "LayoutModel",
          "state": {
            "_model_module": "@jupyter-widgets/base",
            "_model_module_version": "1.2.0",
            "_model_name": "LayoutModel",
            "_view_count": null,
            "_view_module": "@jupyter-widgets/base",
            "_view_module_version": "1.2.0",
            "_view_name": "LayoutView",
            "align_content": null,
            "align_items": null,
            "align_self": null,
            "border": null,
            "bottom": null,
            "display": null,
            "flex": null,
            "flex_flow": null,
            "grid_area": null,
            "grid_auto_columns": null,
            "grid_auto_flow": null,
            "grid_auto_rows": null,
            "grid_column": null,
            "grid_gap": null,
            "grid_row": null,
            "grid_template_areas": null,
            "grid_template_columns": null,
            "grid_template_rows": null,
            "height": null,
            "justify_content": null,
            "justify_items": null,
            "left": null,
            "margin": null,
            "max_height": null,
            "max_width": null,
            "min_height": null,
            "min_width": null,
            "object_fit": null,
            "object_position": null,
            "order": null,
            "overflow": null,
            "overflow_x": null,
            "overflow_y": null,
            "padding": null,
            "right": null,
            "top": null,
            "visibility": null,
            "width": null
          }
        },
        "4d0e364e9f274e8ea7447e4e01c7f28f": {
          "model_module": "@jupyter-widgets/controls",
          "model_module_version": "1.5.0",
          "model_name": "DescriptionStyleModel",
          "state": {
            "_model_module": "@jupyter-widgets/controls",
            "_model_module_version": "1.5.0",
            "_model_name": "DescriptionStyleModel",
            "_view_count": null,
            "_view_module": "@jupyter-widgets/base",
            "_view_module_version": "1.2.0",
            "_view_name": "StyleView",
            "description_width": ""
          }
        },
        "4eb62038f89d4a8cb2c46e6a7cc70150": {
          "model_module": "@jupyter-widgets/controls",
          "model_module_version": "1.5.0",
          "model_name": "FloatProgressModel",
          "state": {
            "_dom_classes": [],
            "_model_module": "@jupyter-widgets/controls",
            "_model_module_version": "1.5.0",
            "_model_name": "FloatProgressModel",
            "_view_count": null,
            "_view_module": "@jupyter-widgets/controls",
            "_view_module_version": "1.5.0",
            "_view_name": "ProgressView",
            "bar_style": "success",
            "description": "",
            "description_tooltip": null,
            "layout": "IPY_MODEL_78a32764678a42f0a5a892f5275d88de",
            "max": 161154,
            "min": 0,
            "orientation": "horizontal",
            "style": "IPY_MODEL_aa17c3a834694a978046808fc5d29da1",
            "value": 161154
          }
        },
        "56049bd375cd4512a0deaf69b7dae245": {
          "model_module": "@jupyter-widgets/controls",
          "model_module_version": "1.5.0",
          "model_name": "DescriptionStyleModel",
          "state": {
            "_model_module": "@jupyter-widgets/controls",
            "_model_module_version": "1.5.0",
            "_model_name": "DescriptionStyleModel",
            "_view_count": null,
            "_view_module": "@jupyter-widgets/base",
            "_view_module_version": "1.2.0",
            "_view_name": "StyleView",
            "description_width": ""
          }
        },
        "5d1a9518abd44c18b122e575a7548ed2": {
          "model_module": "@jupyter-widgets/controls",
          "model_module_version": "1.5.0",
          "model_name": "DescriptionStyleModel",
          "state": {
            "_model_module": "@jupyter-widgets/controls",
            "_model_module_version": "1.5.0",
            "_model_name": "DescriptionStyleModel",
            "_view_count": null,
            "_view_module": "@jupyter-widgets/base",
            "_view_module_version": "1.2.0",
            "_view_name": "StyleView",
            "description_width": ""
          }
        },
        "60c72c47a8d84f0eab652822bed1ed09": {
          "model_module": "@jupyter-widgets/controls",
          "model_module_version": "1.5.0",
          "model_name": "DescriptionStyleModel",
          "state": {
            "_model_module": "@jupyter-widgets/controls",
            "_model_module_version": "1.5.0",
            "_model_name": "DescriptionStyleModel",
            "_view_count": null,
            "_view_module": "@jupyter-widgets/base",
            "_view_module_version": "1.2.0",
            "_view_name": "StyleView",
            "description_width": ""
          }
        },
        "67822d28f8584e69abcb041b88377a9f": {
          "model_module": "@jupyter-widgets/controls",
          "model_module_version": "1.5.0",
          "model_name": "DescriptionStyleModel",
          "state": {
            "_model_module": "@jupyter-widgets/controls",
            "_model_module_version": "1.5.0",
            "_model_name": "DescriptionStyleModel",
            "_view_count": null,
            "_view_module": "@jupyter-widgets/base",
            "_view_module_version": "1.2.0",
            "_view_name": "StyleView",
            "description_width": ""
          }
        },
        "6e6f7b7cccaa4f0cbfc9311db257bea1": {
          "model_module": "@jupyter-widgets/controls",
          "model_module_version": "1.5.0",
          "model_name": "HTMLModel",
          "state": {
            "_dom_classes": [],
            "_model_module": "@jupyter-widgets/controls",
            "_model_module_version": "1.5.0",
            "_model_name": "HTMLModel",
            "_view_count": null,
            "_view_module": "@jupyter-widgets/controls",
            "_view_module_version": "1.5.0",
            "_view_name": "HTMLView",
            "description": "",
            "description_tooltip": null,
            "layout": "IPY_MODEL_6fc5bec49f17469db39e0d4b535b94e9",
            "placeholder": "​",
            "style": "IPY_MODEL_67822d28f8584e69abcb041b88377a9f",
            "value": " 20.5k/20.5k [00:00&lt;00:00, 1.34MB/s]"
          }
        },
        "6fc5bec49f17469db39e0d4b535b94e9": {
          "model_module": "@jupyter-widgets/base",
          "model_module_version": "1.2.0",
          "model_name": "LayoutModel",
          "state": {
            "_model_module": "@jupyter-widgets/base",
            "_model_module_version": "1.2.0",
            "_model_name": "LayoutModel",
            "_view_count": null,
            "_view_module": "@jupyter-widgets/base",
            "_view_module_version": "1.2.0",
            "_view_name": "LayoutView",
            "align_content": null,
            "align_items": null,
            "align_self": null,
            "border": null,
            "bottom": null,
            "display": null,
            "flex": null,
            "flex_flow": null,
            "grid_area": null,
            "grid_auto_columns": null,
            "grid_auto_flow": null,
            "grid_auto_rows": null,
            "grid_column": null,
            "grid_gap": null,
            "grid_row": null,
            "grid_template_areas": null,
            "grid_template_columns": null,
            "grid_template_rows": null,
            "height": null,
            "justify_content": null,
            "justify_items": null,
            "left": null,
            "margin": null,
            "max_height": null,
            "max_width": null,
            "min_height": null,
            "min_width": null,
            "object_fit": null,
            "object_position": null,
            "order": null,
            "overflow": null,
            "overflow_x": null,
            "overflow_y": null,
            "padding": null,
            "right": null,
            "top": null,
            "visibility": null,
            "width": null
          }
        },
        "76e80fb236f5491597c992d1a809be33": {
          "model_module": "@jupyter-widgets/controls",
          "model_module_version": "1.5.0",
          "model_name": "HBoxModel",
          "state": {
            "_dom_classes": [],
            "_model_module": "@jupyter-widgets/controls",
            "_model_module_version": "1.5.0",
            "_model_name": "HBoxModel",
            "_view_count": null,
            "_view_module": "@jupyter-widgets/controls",
            "_view_module_version": "1.5.0",
            "_view_name": "HBoxView",
            "box_style": "",
            "children": [
              "IPY_MODEL_f7359467b0214c5385de8ee4334f7ba3",
              "IPY_MODEL_a58ac736aa884eb9a27264cb04bb36ce",
              "IPY_MODEL_6e6f7b7cccaa4f0cbfc9311db257bea1"
            ],
            "layout": "IPY_MODEL_0656eee26364487f81580c3864e7a159"
          }
        },
        "78a32764678a42f0a5a892f5275d88de": {
          "model_module": "@jupyter-widgets/base",
          "model_module_version": "1.2.0",
          "model_name": "LayoutModel",
          "state": {
            "_model_module": "@jupyter-widgets/base",
            "_model_module_version": "1.2.0",
            "_model_name": "LayoutModel",
            "_view_count": null,
            "_view_module": "@jupyter-widgets/base",
            "_view_module_version": "1.2.0",
            "_view_name": "LayoutView",
            "align_content": null,
            "align_items": null,
            "align_self": null,
            "border": null,
            "bottom": null,
            "display": null,
            "flex": null,
            "flex_flow": null,
            "grid_area": null,
            "grid_auto_columns": null,
            "grid_auto_flow": null,
            "grid_auto_rows": null,
            "grid_column": null,
            "grid_gap": null,
            "grid_row": null,
            "grid_template_areas": null,
            "grid_template_columns": null,
            "grid_template_rows": null,
            "height": null,
            "justify_content": null,
            "justify_items": null,
            "left": null,
            "margin": null,
            "max_height": null,
            "max_width": null,
            "min_height": null,
            "min_width": null,
            "object_fit": null,
            "object_position": null,
            "order": null,
            "overflow": null,
            "overflow_x": null,
            "overflow_y": null,
            "padding": null,
            "right": null,
            "top": null,
            "visibility": null,
            "width": null
          }
        },
        "7f168d0ea11c4ea1a96202d3a36ec389": {
          "model_module": "@jupyter-widgets/controls",
          "model_module_version": "1.5.0",
          "model_name": "FloatProgressModel",
          "state": {
            "_dom_classes": [],
            "_model_module": "@jupyter-widgets/controls",
            "_model_module_version": "1.5.0",
            "_model_name": "FloatProgressModel",
            "_view_count": null,
            "_view_module": "@jupyter-widgets/controls",
            "_view_module_version": "1.5.0",
            "_view_name": "ProgressView",
            "bar_style": "success",
            "description": "",
            "description_tooltip": null,
            "layout": "IPY_MODEL_c88027eb3e1c4771ab57366070ecd553",
            "max": 3295251,
            "min": 0,
            "orientation": "horizontal",
            "style": "IPY_MODEL_df75b255bfb04057b553830b59f0a153",
            "value": 3295251
          }
        },
        "83bc41f428b7492e9defdaa177f33a3e": {
          "model_module": "@jupyter-widgets/controls",
          "model_module_version": "1.5.0",
          "model_name": "HTMLModel",
          "state": {
            "_dom_classes": [],
            "_model_module": "@jupyter-widgets/controls",
            "_model_module_version": "1.5.0",
            "_model_name": "HTMLModel",
            "_view_count": null,
            "_view_module": "@jupyter-widgets/controls",
            "_view_module_version": "1.5.0",
            "_view_name": "HTMLView",
            "description": "",
            "description_tooltip": null,
            "layout": "IPY_MODEL_a1188f80f78c49c7a822d71694e47074",
            "placeholder": "​",
            "style": "IPY_MODEL_068552491889440e8a66e61b9f013786",
            "value": "Downloading data: 100%"
          }
        },
        "888a323362ae4daeac99915bcb3dcf10": {
          "model_module": "@jupyter-widgets/base",
          "model_module_version": "1.2.0",
          "model_name": "LayoutModel",
          "state": {
            "_model_module": "@jupyter-widgets/base",
            "_model_module_version": "1.2.0",
            "_model_name": "LayoutModel",
            "_view_count": null,
            "_view_module": "@jupyter-widgets/base",
            "_view_module_version": "1.2.0",
            "_view_name": "LayoutView",
            "align_content": null,
            "align_items": null,
            "align_self": null,
            "border": null,
            "bottom": null,
            "display": null,
            "flex": null,
            "flex_flow": null,
            "grid_area": null,
            "grid_auto_columns": null,
            "grid_auto_flow": null,
            "grid_auto_rows": null,
            "grid_column": null,
            "grid_gap": null,
            "grid_row": null,
            "grid_template_areas": null,
            "grid_template_columns": null,
            "grid_template_rows": null,
            "height": null,
            "justify_content": null,
            "justify_items": null,
            "left": null,
            "margin": null,
            "max_height": null,
            "max_width": null,
            "min_height": null,
            "min_width": null,
            "object_fit": null,
            "object_position": null,
            "order": null,
            "overflow": null,
            "overflow_x": null,
            "overflow_y": null,
            "padding": null,
            "right": null,
            "top": null,
            "visibility": null,
            "width": null
          }
        },
        "8cfa6df0ee654643bfdb4a3825e8fbbe": {
          "model_module": "@jupyter-widgets/controls",
          "model_module_version": "1.5.0",
          "model_name": "DescriptionStyleModel",
          "state": {
            "_model_module": "@jupyter-widgets/controls",
            "_model_module_version": "1.5.0",
            "_model_name": "DescriptionStyleModel",
            "_view_count": null,
            "_view_module": "@jupyter-widgets/base",
            "_view_module_version": "1.2.0",
            "_view_name": "StyleView",
            "description_width": ""
          }
        },
        "9055fd09043642e0ae3d8a7a7c0ab31b": {
          "model_module": "@jupyter-widgets/controls",
          "model_module_version": "1.5.0",
          "model_name": "HTMLModel",
          "state": {
            "_dom_classes": [],
            "_model_module": "@jupyter-widgets/controls",
            "_model_module_version": "1.5.0",
            "_model_name": "HTMLModel",
            "_view_count": null,
            "_view_module": "@jupyter-widgets/controls",
            "_view_module_version": "1.5.0",
            "_view_name": "HTMLView",
            "description": "",
            "description_tooltip": null,
            "layout": "IPY_MODEL_11e011e4acb24519bd41a054ddecbfb1",
            "placeholder": "​",
            "style": "IPY_MODEL_5d1a9518abd44c18b122e575a7548ed2",
            "value": " 161k/161k [00:00&lt;00:00, 865kB/s]"
          }
        },
        "937ee45f4d634d189c6d95c886e97bca": {
          "model_module": "@jupyter-widgets/controls",
          "model_module_version": "1.5.0",
          "model_name": "DescriptionStyleModel",
          "state": {
            "_model_module": "@jupyter-widgets/controls",
            "_model_module_version": "1.5.0",
            "_model_name": "DescriptionStyleModel",
            "_view_count": null,
            "_view_module": "@jupyter-widgets/base",
            "_view_module_version": "1.2.0",
            "_view_name": "StyleView",
            "description_width": ""
          }
        },
        "96baa91869eb478eb492754b98169470": {
          "model_module": "@jupyter-widgets/base",
          "model_module_version": "1.2.0",
          "model_name": "LayoutModel",
          "state": {
            "_model_module": "@jupyter-widgets/base",
            "_model_module_version": "1.2.0",
            "_model_name": "LayoutModel",
            "_view_count": null,
            "_view_module": "@jupyter-widgets/base",
            "_view_module_version": "1.2.0",
            "_view_name": "LayoutView",
            "align_content": null,
            "align_items": null,
            "align_self": null,
            "border": null,
            "bottom": null,
            "display": null,
            "flex": null,
            "flex_flow": null,
            "grid_area": null,
            "grid_auto_columns": null,
            "grid_auto_flow": null,
            "grid_auto_rows": null,
            "grid_column": null,
            "grid_gap": null,
            "grid_row": null,
            "grid_template_areas": null,
            "grid_template_columns": null,
            "grid_template_rows": null,
            "height": null,
            "justify_content": null,
            "justify_items": null,
            "left": null,
            "margin": null,
            "max_height": null,
            "max_width": null,
            "min_height": null,
            "min_width": null,
            "object_fit": null,
            "object_position": null,
            "order": null,
            "overflow": null,
            "overflow_x": null,
            "overflow_y": null,
            "padding": null,
            "right": null,
            "top": null,
            "visibility": null,
            "width": null
          }
        },
        "996ac47b200c427088ee7644fe886896": {
          "model_module": "@jupyter-widgets/controls",
          "model_module_version": "1.5.0",
          "model_name": "HTMLModel",
          "state": {
            "_dom_classes": [],
            "_model_module": "@jupyter-widgets/controls",
            "_model_module_version": "1.5.0",
            "_model_name": "HTMLModel",
            "_view_count": null,
            "_view_module": "@jupyter-widgets/controls",
            "_view_module_version": "1.5.0",
            "_view_name": "HTMLView",
            "description": "",
            "description_tooltip": null,
            "layout": "IPY_MODEL_cb7d88a70af746f2ae31416b4b670c63",
            "placeholder": "​",
            "style": "IPY_MODEL_4837276e5cf248449e287b1eeaef30ec",
            "value": " 6.08k/6.08k [00:00&lt;00:00, 279kB/s]"
          }
        },
        "9b9addf13301466b9ef30b9d4b836a67": {
          "model_module": "@jupyter-widgets/base",
          "model_module_version": "1.2.0",
          "model_name": "LayoutModel",
          "state": {
            "_model_module": "@jupyter-widgets/base",
            "_model_module_version": "1.2.0",
            "_model_name": "LayoutModel",
            "_view_count": null,
            "_view_module": "@jupyter-widgets/base",
            "_view_module_version": "1.2.0",
            "_view_name": "LayoutView",
            "align_content": null,
            "align_items": null,
            "align_self": null,
            "border": null,
            "bottom": null,
            "display": null,
            "flex": null,
            "flex_flow": null,
            "grid_area": null,
            "grid_auto_columns": null,
            "grid_auto_flow": null,
            "grid_auto_rows": null,
            "grid_column": null,
            "grid_gap": null,
            "grid_row": null,
            "grid_template_areas": null,
            "grid_template_columns": null,
            "grid_template_rows": null,
            "height": null,
            "justify_content": null,
            "justify_items": null,
            "left": null,
            "margin": null,
            "max_height": null,
            "max_width": null,
            "min_height": null,
            "min_width": null,
            "object_fit": null,
            "object_position": null,
            "order": null,
            "overflow": null,
            "overflow_x": null,
            "overflow_y": null,
            "padding": null,
            "right": null,
            "top": null,
            "visibility": null,
            "width": null
          }
        },
        "9cf2d2e2bfe24f2ab185165d79da8bdb": {
          "model_module": "@jupyter-widgets/controls",
          "model_module_version": "1.5.0",
          "model_name": "FloatProgressModel",
          "state": {
            "_dom_classes": [],
            "_model_module": "@jupyter-widgets/controls",
            "_model_module_version": "1.5.0",
            "_model_name": "FloatProgressModel",
            "_view_count": null,
            "_view_module": "@jupyter-widgets/controls",
            "_view_module_version": "1.5.0",
            "_view_name": "ProgressView",
            "bar_style": "success",
            "description": "",
            "description_tooltip": null,
            "layout": "IPY_MODEL_140f33387db341398bc39e9c47703df4",
            "max": 6081,
            "min": 0,
            "orientation": "horizontal",
            "style": "IPY_MODEL_b3a8424c0b584a37ad2ede748085425c",
            "value": 6081
          }
        },
        "a1188f80f78c49c7a822d71694e47074": {
          "model_module": "@jupyter-widgets/base",
          "model_module_version": "1.2.0",
          "model_name": "LayoutModel",
          "state": {
            "_model_module": "@jupyter-widgets/base",
            "_model_module_version": "1.2.0",
            "_model_name": "LayoutModel",
            "_view_count": null,
            "_view_module": "@jupyter-widgets/base",
            "_view_module_version": "1.2.0",
            "_view_name": "LayoutView",
            "align_content": null,
            "align_items": null,
            "align_self": null,
            "border": null,
            "bottom": null,
            "display": null,
            "flex": null,
            "flex_flow": null,
            "grid_area": null,
            "grid_auto_columns": null,
            "grid_auto_flow": null,
            "grid_auto_rows": null,
            "grid_column": null,
            "grid_gap": null,
            "grid_row": null,
            "grid_template_areas": null,
            "grid_template_columns": null,
            "grid_template_rows": null,
            "height": null,
            "justify_content": null,
            "justify_items": null,
            "left": null,
            "margin": null,
            "max_height": null,
            "max_width": null,
            "min_height": null,
            "min_width": null,
            "object_fit": null,
            "object_position": null,
            "order": null,
            "overflow": null,
            "overflow_x": null,
            "overflow_y": null,
            "padding": null,
            "right": null,
            "top": null,
            "visibility": null,
            "width": null
          }
        },
        "a58ac736aa884eb9a27264cb04bb36ce": {
          "model_module": "@jupyter-widgets/controls",
          "model_module_version": "1.5.0",
          "model_name": "FloatProgressModel",
          "state": {
            "_dom_classes": [],
            "_model_module": "@jupyter-widgets/controls",
            "_model_module_version": "1.5.0",
            "_model_name": "FloatProgressModel",
            "_view_count": null,
            "_view_module": "@jupyter-widgets/controls",
            "_view_module_version": "1.5.0",
            "_view_name": "ProgressView",
            "bar_style": "success",
            "description": "",
            "description_tooltip": null,
            "layout": "IPY_MODEL_96baa91869eb478eb492754b98169470",
            "max": 20464,
            "min": 0,
            "orientation": "horizontal",
            "style": "IPY_MODEL_bbda5260ca1c450386f9191e9f9dde97",
            "value": 20464
          }
        },
        "aa082ade829247dc8ea0d75cc8a5b2a7": {
          "model_module": "@jupyter-widgets/controls",
          "model_module_version": "1.5.0",
          "model_name": "HBoxModel",
          "state": {
            "_dom_classes": [],
            "_model_module": "@jupyter-widgets/controls",
            "_model_module_version": "1.5.0",
            "_model_name": "HBoxModel",
            "_view_count": null,
            "_view_module": "@jupyter-widgets/controls",
            "_view_module_version": "1.5.0",
            "_view_name": "HBoxView",
            "box_style": "",
            "children": [
              "IPY_MODEL_83bc41f428b7492e9defdaa177f33a3e",
              "IPY_MODEL_7f168d0ea11c4ea1a96202d3a36ec389",
              "IPY_MODEL_ebb7ee3fd084466f9667771a99e6e3b2"
            ],
            "layout": "IPY_MODEL_1e3c2a94251b4e75af0413a88b53bfe1"
          }
        },
        "aa17c3a834694a978046808fc5d29da1": {
          "model_module": "@jupyter-widgets/controls",
          "model_module_version": "1.5.0",
          "model_name": "ProgressStyleModel",
          "state": {
            "_model_module": "@jupyter-widgets/controls",
            "_model_module_version": "1.5.0",
            "_model_name": "ProgressStyleModel",
            "_view_count": null,
            "_view_module": "@jupyter-widgets/base",
            "_view_module_version": "1.2.0",
            "_view_name": "StyleView",
            "bar_color": null,
            "description_width": ""
          }
        },
        "b317ba38f2b145f9b0b49f523547684f": {
          "model_module": "@jupyter-widgets/controls",
          "model_module_version": "1.5.0",
          "model_name": "HTMLModel",
          "state": {
            "_dom_classes": [],
            "_model_module": "@jupyter-widgets/controls",
            "_model_module_version": "1.5.0",
            "_model_name": "HTMLModel",
            "_view_count": null,
            "_view_module": "@jupyter-widgets/controls",
            "_view_module_version": "1.5.0",
            "_view_name": "HTMLView",
            "description": "",
            "description_tooltip": null,
            "layout": "IPY_MODEL_4aed1fa58b7342eba35c2106ec934019",
            "placeholder": "​",
            "style": "IPY_MODEL_60c72c47a8d84f0eab652822bed1ed09",
            "value": " 32332/32332 [00:01&lt;00:00, 27628.23 examples/s]"
          }
        },
        "b3a8424c0b584a37ad2ede748085425c": {
          "model_module": "@jupyter-widgets/controls",
          "model_module_version": "1.5.0",
          "model_name": "ProgressStyleModel",
          "state": {
            "_model_module": "@jupyter-widgets/controls",
            "_model_module_version": "1.5.0",
            "_model_name": "ProgressStyleModel",
            "_view_count": null,
            "_view_module": "@jupyter-widgets/base",
            "_view_module_version": "1.2.0",
            "_view_name": "StyleView",
            "bar_color": null,
            "description_width": ""
          }
        },
        "bbda5260ca1c450386f9191e9f9dde97": {
          "model_module": "@jupyter-widgets/controls",
          "model_module_version": "1.5.0",
          "model_name": "ProgressStyleModel",
          "state": {
            "_model_module": "@jupyter-widgets/controls",
            "_model_module_version": "1.5.0",
            "_model_name": "ProgressStyleModel",
            "_view_count": null,
            "_view_module": "@jupyter-widgets/base",
            "_view_module_version": "1.2.0",
            "_view_name": "StyleView",
            "bar_color": null,
            "description_width": ""
          }
        },
        "c020b38c6d2c436e8b742fd87d3b8b89": {
          "model_module": "@jupyter-widgets/base",
          "model_module_version": "1.2.0",
          "model_name": "LayoutModel",
          "state": {
            "_model_module": "@jupyter-widgets/base",
            "_model_module_version": "1.2.0",
            "_model_name": "LayoutModel",
            "_view_count": null,
            "_view_module": "@jupyter-widgets/base",
            "_view_module_version": "1.2.0",
            "_view_name": "LayoutView",
            "align_content": null,
            "align_items": null,
            "align_self": null,
            "border": null,
            "bottom": null,
            "display": null,
            "flex": null,
            "flex_flow": null,
            "grid_area": null,
            "grid_auto_columns": null,
            "grid_auto_flow": null,
            "grid_auto_rows": null,
            "grid_column": null,
            "grid_gap": null,
            "grid_row": null,
            "grid_template_areas": null,
            "grid_template_columns": null,
            "grid_template_rows": null,
            "height": null,
            "justify_content": null,
            "justify_items": null,
            "left": null,
            "margin": null,
            "max_height": null,
            "max_width": null,
            "min_height": null,
            "min_width": null,
            "object_fit": null,
            "object_position": null,
            "order": null,
            "overflow": null,
            "overflow_x": null,
            "overflow_y": null,
            "padding": null,
            "right": null,
            "top": null,
            "visibility": null,
            "width": null
          }
        },
        "c2d14fa4280c48e0ae04859b73c80781": {
          "model_module": "@jupyter-widgets/controls",
          "model_module_version": "1.5.0",
          "model_name": "HBoxModel",
          "state": {
            "_dom_classes": [],
            "_model_module": "@jupyter-widgets/controls",
            "_model_module_version": "1.5.0",
            "_model_name": "HBoxModel",
            "_view_count": null,
            "_view_module": "@jupyter-widgets/controls",
            "_view_module_version": "1.5.0",
            "_view_name": "HBoxView",
            "box_style": "",
            "children": [
              "IPY_MODEL_d3104837d9734834b7c87e87289b08df",
              "IPY_MODEL_02b02005adf241a4a0be8173ca3a4aee",
              "IPY_MODEL_b317ba38f2b145f9b0b49f523547684f"
            ],
            "layout": "IPY_MODEL_434340d109d1401d8868498a23b291cf"
          }
        },
        "c88027eb3e1c4771ab57366070ecd553": {
          "model_module": "@jupyter-widgets/base",
          "model_module_version": "1.2.0",
          "model_name": "LayoutModel",
          "state": {
            "_model_module": "@jupyter-widgets/base",
            "_model_module_version": "1.2.0",
            "_model_name": "LayoutModel",
            "_view_count": null,
            "_view_module": "@jupyter-widgets/base",
            "_view_module_version": "1.2.0",
            "_view_name": "LayoutView",
            "align_content": null,
            "align_items": null,
            "align_self": null,
            "border": null,
            "bottom": null,
            "display": null,
            "flex": null,
            "flex_flow": null,
            "grid_area": null,
            "grid_auto_columns": null,
            "grid_auto_flow": null,
            "grid_auto_rows": null,
            "grid_column": null,
            "grid_gap": null,
            "grid_row": null,
            "grid_template_areas": null,
            "grid_template_columns": null,
            "grid_template_rows": null,
            "height": null,
            "justify_content": null,
            "justify_items": null,
            "left": null,
            "margin": null,
            "max_height": null,
            "max_width": null,
            "min_height": null,
            "min_width": null,
            "object_fit": null,
            "object_position": null,
            "order": null,
            "overflow": null,
            "overflow_x": null,
            "overflow_y": null,
            "padding": null,
            "right": null,
            "top": null,
            "visibility": null,
            "width": null
          }
        },
        "ca588157678e4cc09c3fd760676efd39": {
          "model_module": "@jupyter-widgets/controls",
          "model_module_version": "1.5.0",
          "model_name": "DescriptionStyleModel",
          "state": {
            "_model_module": "@jupyter-widgets/controls",
            "_model_module_version": "1.5.0",
            "_model_name": "DescriptionStyleModel",
            "_view_count": null,
            "_view_module": "@jupyter-widgets/base",
            "_view_module_version": "1.2.0",
            "_view_name": "StyleView",
            "description_width": ""
          }
        },
        "cb7d88a70af746f2ae31416b4b670c63": {
          "model_module": "@jupyter-widgets/base",
          "model_module_version": "1.2.0",
          "model_name": "LayoutModel",
          "state": {
            "_model_module": "@jupyter-widgets/base",
            "_model_module_version": "1.2.0",
            "_model_name": "LayoutModel",
            "_view_count": null,
            "_view_module": "@jupyter-widgets/base",
            "_view_module_version": "1.2.0",
            "_view_name": "LayoutView",
            "align_content": null,
            "align_items": null,
            "align_self": null,
            "border": null,
            "bottom": null,
            "display": null,
            "flex": null,
            "flex_flow": null,
            "grid_area": null,
            "grid_auto_columns": null,
            "grid_auto_flow": null,
            "grid_auto_rows": null,
            "grid_column": null,
            "grid_gap": null,
            "grid_row": null,
            "grid_template_areas": null,
            "grid_template_columns": null,
            "grid_template_rows": null,
            "height": null,
            "justify_content": null,
            "justify_items": null,
            "left": null,
            "margin": null,
            "max_height": null,
            "max_width": null,
            "min_height": null,
            "min_width": null,
            "object_fit": null,
            "object_position": null,
            "order": null,
            "overflow": null,
            "overflow_x": null,
            "overflow_y": null,
            "padding": null,
            "right": null,
            "top": null,
            "visibility": null,
            "width": null
          }
        },
        "d3104837d9734834b7c87e87289b08df": {
          "model_module": "@jupyter-widgets/controls",
          "model_module_version": "1.5.0",
          "model_name": "HTMLModel",
          "state": {
            "_dom_classes": [],
            "_model_module": "@jupyter-widgets/controls",
            "_model_module_version": "1.5.0",
            "_model_name": "HTMLModel",
            "_view_count": null,
            "_view_module": "@jupyter-widgets/controls",
            "_view_module_version": "1.5.0",
            "_view_name": "HTMLView",
            "description": "",
            "description_tooltip": null,
            "layout": "IPY_MODEL_2c95f5b81fc84ad698fe77b52cb84076",
            "placeholder": "​",
            "style": "IPY_MODEL_ca588157678e4cc09c3fd760676efd39",
            "value": "Generating train split: 100%"
          }
        },
        "df75b255bfb04057b553830b59f0a153": {
          "model_module": "@jupyter-widgets/controls",
          "model_module_version": "1.5.0",
          "model_name": "ProgressStyleModel",
          "state": {
            "_model_module": "@jupyter-widgets/controls",
            "_model_module_version": "1.5.0",
            "_model_name": "ProgressStyleModel",
            "_view_count": null,
            "_view_module": "@jupyter-widgets/base",
            "_view_module_version": "1.2.0",
            "_view_name": "StyleView",
            "bar_color": null,
            "description_width": ""
          }
        },
        "ebb7ee3fd084466f9667771a99e6e3b2": {
          "model_module": "@jupyter-widgets/controls",
          "model_module_version": "1.5.0",
          "model_name": "HTMLModel",
          "state": {
            "_dom_classes": [],
            "_model_module": "@jupyter-widgets/controls",
            "_model_module_version": "1.5.0",
            "_model_name": "HTMLModel",
            "_view_count": null,
            "_view_module": "@jupyter-widgets/controls",
            "_view_module_version": "1.5.0",
            "_view_name": "HTMLView",
            "description": "",
            "description_tooltip": null,
            "layout": "IPY_MODEL_f0e5024d0d054c1eb8e01c4c8b027e79",
            "placeholder": "​",
            "style": "IPY_MODEL_937ee45f4d634d189c6d95c886e97bca",
            "value": " 3.30M/3.30M [00:01&lt;00:00, 2.77MB/s]"
          }
        },
        "ec2051bf0e9343d394e8a0ecb4fd5ec8": {
          "model_module": "@jupyter-widgets/base",
          "model_module_version": "1.2.0",
          "model_name": "LayoutModel",
          "state": {
            "_model_module": "@jupyter-widgets/base",
            "_model_module_version": "1.2.0",
            "_model_name": "LayoutModel",
            "_view_count": null,
            "_view_module": "@jupyter-widgets/base",
            "_view_module_version": "1.2.0",
            "_view_name": "LayoutView",
            "align_content": null,
            "align_items": null,
            "align_self": null,
            "border": null,
            "bottom": null,
            "display": null,
            "flex": null,
            "flex_flow": null,
            "grid_area": null,
            "grid_auto_columns": null,
            "grid_auto_flow": null,
            "grid_auto_rows": null,
            "grid_column": null,
            "grid_gap": null,
            "grid_row": null,
            "grid_template_areas": null,
            "grid_template_columns": null,
            "grid_template_rows": null,
            "height": null,
            "justify_content": null,
            "justify_items": null,
            "left": null,
            "margin": null,
            "max_height": null,
            "max_width": null,
            "min_height": null,
            "min_width": null,
            "object_fit": null,
            "object_position": null,
            "order": null,
            "overflow": null,
            "overflow_x": null,
            "overflow_y": null,
            "padding": null,
            "right": null,
            "top": null,
            "visibility": null,
            "width": null
          }
        },
        "f0e5024d0d054c1eb8e01c4c8b027e79": {
          "model_module": "@jupyter-widgets/base",
          "model_module_version": "1.2.0",
          "model_name": "LayoutModel",
          "state": {
            "_model_module": "@jupyter-widgets/base",
            "_model_module_version": "1.2.0",
            "_model_name": "LayoutModel",
            "_view_count": null,
            "_view_module": "@jupyter-widgets/base",
            "_view_module_version": "1.2.0",
            "_view_name": "LayoutView",
            "align_content": null,
            "align_items": null,
            "align_self": null,
            "border": null,
            "bottom": null,
            "display": null,
            "flex": null,
            "flex_flow": null,
            "grid_area": null,
            "grid_auto_columns": null,
            "grid_auto_flow": null,
            "grid_auto_rows": null,
            "grid_column": null,
            "grid_gap": null,
            "grid_row": null,
            "grid_template_areas": null,
            "grid_template_columns": null,
            "grid_template_rows": null,
            "height": null,
            "justify_content": null,
            "justify_items": null,
            "left": null,
            "margin": null,
            "max_height": null,
            "max_width": null,
            "min_height": null,
            "min_width": null,
            "object_fit": null,
            "object_position": null,
            "order": null,
            "overflow": null,
            "overflow_x": null,
            "overflow_y": null,
            "padding": null,
            "right": null,
            "top": null,
            "visibility": null,
            "width": null
          }
        },
        "f7359467b0214c5385de8ee4334f7ba3": {
          "model_module": "@jupyter-widgets/controls",
          "model_module_version": "1.5.0",
          "model_name": "HTMLModel",
          "state": {
            "_dom_classes": [],
            "_model_module": "@jupyter-widgets/controls",
            "_model_module_version": "1.5.0",
            "_model_name": "HTMLModel",
            "_view_count": null,
            "_view_module": "@jupyter-widgets/controls",
            "_view_module_version": "1.5.0",
            "_view_name": "HTMLView",
            "description": "",
            "description_tooltip": null,
            "layout": "IPY_MODEL_05240e68c55a458286f43967e7f90889",
            "placeholder": "​",
            "style": "IPY_MODEL_8cfa6df0ee654643bfdb4a3825e8fbbe",
            "value": "Downloading readme: 100%"
          }
        },
        "f74bdeb79a224de8b1c85f4ca8657331": {
          "model_module": "@jupyter-widgets/controls",
          "model_module_version": "1.5.0",
          "model_name": "HTMLModel",
          "state": {
            "_dom_classes": [],
            "_model_module": "@jupyter-widgets/controls",
            "_model_module_version": "1.5.0",
            "_model_name": "HTMLModel",
            "_view_count": null,
            "_view_module": "@jupyter-widgets/controls",
            "_view_module_version": "1.5.0",
            "_view_name": "HTMLView",
            "description": "",
            "description_tooltip": null,
            "layout": "IPY_MODEL_888a323362ae4daeac99915bcb3dcf10",
            "placeholder": "​",
            "style": "IPY_MODEL_4d0e364e9f274e8ea7447e4e01c7f28f",
            "value": "Downloading metadata: 100%"
          }
        }
      }
    }
  },
  "nbformat": 4,
  "nbformat_minor": 0
}
